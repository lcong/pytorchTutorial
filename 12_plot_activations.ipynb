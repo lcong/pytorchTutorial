{
 "cells": [
  {
   "cell_type": "code",
   "execution_count": null,
   "id": "cb2ea154",
   "metadata": {},
   "outputs": [],
   "source": [
    "import numpy as np \n",
    "import matplotlib.pyplot as plt"
   ]
  },
  {
   "cell_type": "code",
   "execution_count": null,
   "id": "509d2943",
   "metadata": {},
   "outputs": [],
   "source": [
    "##### Sigmoid\n",
    "sigmoid = lambda x: 1 / (1 + np.exp(-x))"
   ]
  },
  {
   "cell_type": "code",
   "execution_count": null,
   "id": "a3809d0a",
   "metadata": {},
   "outputs": [],
   "source": [
    "x=np.linspace(-10,10,10)"
   ]
  },
  {
   "cell_type": "code",
   "execution_count": null,
   "id": "c8a1f41a",
   "metadata": {},
   "outputs": [],
   "source": [
    "y=np.linspace(-10,10,100)"
   ]
  },
  {
   "cell_type": "code",
   "execution_count": null,
   "id": "a39a528e",
   "metadata": {},
   "outputs": [],
   "source": [
    "fig = plt.figure()\n",
    "plt.plot(y,sigmoid(y),'b', label='linspace(-10,10,100)')"
   ]
  },
  {
   "cell_type": "code",
   "execution_count": null,
   "id": "bb13dff2",
   "metadata": {},
   "outputs": [],
   "source": [
    "plt.grid(linestyle='--')"
   ]
  },
  {
   "cell_type": "code",
   "execution_count": null,
   "id": "1925ec1e",
   "metadata": {},
   "outputs": [],
   "source": [
    "plt.xlabel('X Axis')"
   ]
  },
  {
   "cell_type": "code",
   "execution_count": null,
   "id": "dd79c82a",
   "metadata": {},
   "outputs": [],
   "source": [
    "plt.ylabel('Y Axis')"
   ]
  },
  {
   "cell_type": "code",
   "execution_count": null,
   "id": "bd4037d9",
   "metadata": {},
   "outputs": [],
   "source": [
    "plt.title('Sigmoid Function')"
   ]
  },
  {
   "cell_type": "code",
   "execution_count": null,
   "id": "3f41d116",
   "metadata": {},
   "outputs": [],
   "source": [
    "plt.xticks([-4, -3, -2, -1, 0, 1, 2, 3, 4])\n",
    "plt.yticks([-2, -1, 0, 1, 2])"
   ]
  },
  {
   "cell_type": "code",
   "execution_count": null,
   "id": "a5f82e32",
   "metadata": {},
   "outputs": [],
   "source": [
    "plt.ylim(-2, 2)\n",
    "plt.xlim(-4, 4)"
   ]
  },
  {
   "cell_type": "code",
   "execution_count": null,
   "id": "a1108d71",
   "metadata": {},
   "outputs": [],
   "source": [
    "plt.show()\n",
    "#plt.savefig('sigmoid.png')"
   ]
  },
  {
   "cell_type": "code",
   "execution_count": null,
   "id": "f812434c",
   "metadata": {},
   "outputs": [],
   "source": [
    "fig = plt.figure()"
   ]
  },
  {
   "cell_type": "code",
   "execution_count": null,
   "id": "8bc8937c",
   "metadata": {},
   "outputs": [],
   "source": [
    "##### TanH\n",
    "tanh = lambda x: 2*sigmoid(2*x)-1"
   ]
  },
  {
   "cell_type": "code",
   "execution_count": null,
   "id": "11d5218e",
   "metadata": {},
   "outputs": [],
   "source": [
    "x=np.linspace(-10,10,10)"
   ]
  },
  {
   "cell_type": "code",
   "execution_count": null,
   "id": "11ff108f",
   "metadata": {},
   "outputs": [],
   "source": [
    "y=np.linspace(-10,10,100)"
   ]
  },
  {
   "cell_type": "code",
   "execution_count": null,
   "id": "fce4abcb",
   "metadata": {},
   "outputs": [],
   "source": [
    "plt.plot(y,tanh(y),'b', label='linspace(-10,10,100)')"
   ]
  },
  {
   "cell_type": "code",
   "execution_count": null,
   "id": "ea0a01c1",
   "metadata": {},
   "outputs": [],
   "source": [
    "plt.grid(linestyle='--')"
   ]
  },
  {
   "cell_type": "code",
   "execution_count": null,
   "id": "c71032d9",
   "metadata": {},
   "outputs": [],
   "source": [
    "plt.xlabel('X Axis')"
   ]
  },
  {
   "cell_type": "code",
   "execution_count": null,
   "id": "be18348b",
   "metadata": {},
   "outputs": [],
   "source": [
    "plt.ylabel('Y Axis')"
   ]
  },
  {
   "cell_type": "code",
   "execution_count": null,
   "id": "16cde6d8",
   "metadata": {},
   "outputs": [],
   "source": [
    "plt.title('TanH Function')"
   ]
  },
  {
   "cell_type": "code",
   "execution_count": null,
   "id": "4ef635d3",
   "metadata": {},
   "outputs": [],
   "source": [
    "plt.xticks([-4, -3, -2, -1, 0, 1, 2, 3, 4])\n",
    "plt.yticks([-4, -3, -2, -1, 0, 1, 2, 3, 4])"
   ]
  },
  {
   "cell_type": "code",
   "execution_count": null,
   "id": "64a24b92",
   "metadata": {},
   "outputs": [],
   "source": [
    "plt.ylim(-4, 4)\n",
    "plt.xlim(-4, 4)"
   ]
  },
  {
   "cell_type": "code",
   "execution_count": null,
   "id": "28da5217",
   "metadata": {},
   "outputs": [],
   "source": [
    "plt.show()\n",
    "#plt.savefig('tanh.png')"
   ]
  },
  {
   "cell_type": "code",
   "execution_count": null,
   "id": "371acd30",
   "metadata": {},
   "outputs": [],
   "source": [
    "fig = plt.figure()"
   ]
  },
  {
   "cell_type": "code",
   "execution_count": null,
   "id": "06c86e41",
   "metadata": {},
   "outputs": [],
   "source": [
    "##### ReLU\n",
    "relu = lambda x: np.where(x>=0, x, 0)"
   ]
  },
  {
   "cell_type": "code",
   "execution_count": null,
   "id": "ef68e19b",
   "metadata": {},
   "outputs": [],
   "source": [
    "x=np.linspace(-10,10,10)"
   ]
  },
  {
   "cell_type": "code",
   "execution_count": null,
   "id": "438b1359",
   "metadata": {},
   "outputs": [],
   "source": [
    "y=np.linspace(-10,10,1000)"
   ]
  },
  {
   "cell_type": "code",
   "execution_count": null,
   "id": "47ccc3b0",
   "metadata": {},
   "outputs": [],
   "source": [
    "plt.plot(y,relu(y),'b', label='linspace(-10,10,100)')"
   ]
  },
  {
   "cell_type": "code",
   "execution_count": null,
   "id": "5737b81a",
   "metadata": {},
   "outputs": [],
   "source": [
    "plt.grid(linestyle='--')"
   ]
  },
  {
   "cell_type": "code",
   "execution_count": null,
   "id": "ddb17b2e",
   "metadata": {},
   "outputs": [],
   "source": [
    "plt.xlabel('X Axis')"
   ]
  },
  {
   "cell_type": "code",
   "execution_count": null,
   "id": "9ad99837",
   "metadata": {},
   "outputs": [],
   "source": [
    "plt.ylabel('Y Axis')"
   ]
  },
  {
   "cell_type": "code",
   "execution_count": null,
   "id": "65048fb3",
   "metadata": {},
   "outputs": [],
   "source": [
    "plt.title('ReLU')"
   ]
  },
  {
   "cell_type": "code",
   "execution_count": null,
   "id": "a7c53ad6",
   "metadata": {},
   "outputs": [],
   "source": [
    "plt.xticks([-4, -3, -2, -1, 0, 1, 2, 3, 4])\n",
    "plt.yticks([-4, -3, -2, -1, 0, 1, 2, 3, 4])"
   ]
  },
  {
   "cell_type": "code",
   "execution_count": null,
   "id": "ae3e601d",
   "metadata": {},
   "outputs": [],
   "source": [
    "plt.ylim(-4, 4)\n",
    "plt.xlim(-4, 4)"
   ]
  },
  {
   "cell_type": "code",
   "execution_count": null,
   "id": "bfa4b4bb",
   "metadata": {},
   "outputs": [],
   "source": [
    "plt.show()\n",
    "#plt.savefig('relu.png')"
   ]
  },
  {
   "cell_type": "code",
   "execution_count": null,
   "id": "f01d5321",
   "metadata": {},
   "outputs": [],
   "source": [
    "fig = plt.figure()"
   ]
  },
  {
   "cell_type": "code",
   "execution_count": null,
   "id": "97d7a273",
   "metadata": {},
   "outputs": [],
   "source": [
    "##### Leaky ReLU\n",
    "leakyrelu = lambda x: np.where(x>=0, x, 0.1*x)"
   ]
  },
  {
   "cell_type": "code",
   "execution_count": null,
   "id": "33e80c17",
   "metadata": {},
   "outputs": [],
   "source": [
    "x=np.linspace(-10,10,10)"
   ]
  },
  {
   "cell_type": "code",
   "execution_count": null,
   "id": "91df1dc1",
   "metadata": {},
   "outputs": [],
   "source": [
    "y=np.linspace(-10,10,1000)"
   ]
  },
  {
   "cell_type": "code",
   "execution_count": null,
   "id": "f1cb9c07",
   "metadata": {},
   "outputs": [],
   "source": [
    "plt.plot(y,leakyrelu(y),'b', label='linspace(-10,10,100)')"
   ]
  },
  {
   "cell_type": "code",
   "execution_count": null,
   "id": "e728c37f",
   "metadata": {},
   "outputs": [],
   "source": [
    "plt.grid(linestyle='--')"
   ]
  },
  {
   "cell_type": "code",
   "execution_count": null,
   "id": "f448adc3",
   "metadata": {},
   "outputs": [],
   "source": [
    "plt.xlabel('X Axis')"
   ]
  },
  {
   "cell_type": "code",
   "execution_count": null,
   "id": "98195a03",
   "metadata": {},
   "outputs": [],
   "source": [
    "plt.ylabel('Y Axis')"
   ]
  },
  {
   "cell_type": "code",
   "execution_count": null,
   "id": "103bc2ae",
   "metadata": {},
   "outputs": [],
   "source": [
    "plt.title('Leaky ReLU')"
   ]
  },
  {
   "cell_type": "code",
   "execution_count": null,
   "id": "8fe50277",
   "metadata": {},
   "outputs": [],
   "source": [
    "plt.xticks([-4, -3, -2, -1, 0, 1, 2, 3, 4])\n",
    "plt.yticks([-4, -3, -2, -1, 0, 1, 2, 3, 4])"
   ]
  },
  {
   "cell_type": "code",
   "execution_count": null,
   "id": "f003de9e",
   "metadata": {},
   "outputs": [],
   "source": [
    "plt.ylim(-4, 4)\n",
    "plt.xlim(-4, 4)"
   ]
  },
  {
   "cell_type": "code",
   "execution_count": null,
   "id": "13c75e4e",
   "metadata": {},
   "outputs": [],
   "source": [
    "plt.show()\n",
    "#plt.savefig('lrelu.png')"
   ]
  },
  {
   "cell_type": "code",
   "execution_count": null,
   "id": "5dbf6e2c",
   "metadata": {
    "lines_to_next_cell": 2
   },
   "outputs": [],
   "source": [
    "fig = plt.figure()"
   ]
  },
  {
   "cell_type": "code",
   "execution_count": null,
   "id": "b567f5d8",
   "metadata": {},
   "outputs": [],
   "source": [
    "##### Binary Step\n",
    "bstep = lambda x: np.where(x>=0, 1, 0)"
   ]
  },
  {
   "cell_type": "code",
   "execution_count": null,
   "id": "95f2f3bb",
   "metadata": {},
   "outputs": [],
   "source": [
    "x=np.linspace(-10,10,10)"
   ]
  },
  {
   "cell_type": "code",
   "execution_count": null,
   "id": "07a89c0a",
   "metadata": {},
   "outputs": [],
   "source": [
    "y=np.linspace(-10,10,1000)"
   ]
  },
  {
   "cell_type": "code",
   "execution_count": null,
   "id": "1693ea92",
   "metadata": {},
   "outputs": [],
   "source": [
    "plt.plot(y,bstep(y),'b', label='linspace(-10,10,100)')"
   ]
  },
  {
   "cell_type": "code",
   "execution_count": null,
   "id": "18c2f403",
   "metadata": {},
   "outputs": [],
   "source": [
    "plt.grid(linestyle='--')"
   ]
  },
  {
   "cell_type": "code",
   "execution_count": null,
   "id": "8f65ab30",
   "metadata": {},
   "outputs": [],
   "source": [
    "plt.xlabel('X Axis')"
   ]
  },
  {
   "cell_type": "code",
   "execution_count": null,
   "id": "708a2930",
   "metadata": {},
   "outputs": [],
   "source": [
    "plt.ylabel('Y Axis')"
   ]
  },
  {
   "cell_type": "code",
   "execution_count": null,
   "id": "f2878955",
   "metadata": {},
   "outputs": [],
   "source": [
    "plt.title('Step Function')"
   ]
  },
  {
   "cell_type": "code",
   "execution_count": null,
   "id": "c2a0a338",
   "metadata": {},
   "outputs": [],
   "source": [
    "plt.xticks([-4, -3, -2, -1, 0, 1, 2, 3, 4])\n",
    "plt.yticks([-2, -1, 0, 1, 2])"
   ]
  },
  {
   "cell_type": "code",
   "execution_count": null,
   "id": "e76806fb",
   "metadata": {},
   "outputs": [],
   "source": [
    "plt.ylim(-2, 2)\n",
    "plt.xlim(-4, 4)"
   ]
  },
  {
   "cell_type": "code",
   "execution_count": null,
   "id": "948a053f",
   "metadata": {},
   "outputs": [],
   "source": [
    "plt.show()\n",
    "#plt.savefig('step.png')"
   ]
  },
  {
   "cell_type": "code",
   "execution_count": null,
   "id": "dbbd4967",
   "metadata": {},
   "outputs": [],
   "source": [
    "print('done')"
   ]
  }
 ],
 "metadata": {
  "jupytext": {
   "cell_metadata_filter": "-all",
   "main_language": "python",
   "notebook_metadata_filter": "-all"
  }
 },
 "nbformat": 4,
 "nbformat_minor": 5
}
