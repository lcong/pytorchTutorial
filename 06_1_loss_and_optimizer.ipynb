{
 "cells": [
  {
   "cell_type": "markdown",
   "id": "516ba83f",
   "metadata": {},
   "source": [
    "1) Design model (input, output, forward pass with different layers)\n",
    "2) Construct loss and optimizer\n",
    "3) Training loop\n",
    "      - Forward = compute prediction and loss\n",
    "      - Backward = compute gradients\n",
    "      - Update weights"
   ]
  },
  {
   "cell_type": "code",
   "execution_count": null,
   "id": "eb017d51",
   "metadata": {},
   "outputs": [],
   "source": [
    "import torch\n",
    "import torch.nn as nn"
   ]
  },
  {
   "cell_type": "markdown",
   "id": "ca11b583",
   "metadata": {},
   "source": [
    "Linear regression\n",
    "f = w * x "
   ]
  },
  {
   "cell_type": "markdown",
   "id": "cb73e54c",
   "metadata": {},
   "source": [
    "here : f = 2 * x"
   ]
  },
  {
   "cell_type": "code",
   "execution_count": null,
   "id": "ddc743e4",
   "metadata": {},
   "outputs": [],
   "source": [
    "# 0) Training samples\n",
    "X = torch.tensor([1, 2, 3, 4], dtype=torch.float32)\n",
    "Y = torch.tensor([2, 4, 6, 8], dtype=torch.float32)"
   ]
  },
  {
   "cell_type": "code",
   "execution_count": null,
   "id": "af1a538f",
   "metadata": {
    "lines_to_next_cell": 1
   },
   "outputs": [],
   "source": [
    "# 1) Design Model: Weights to optimize and forward function\n",
    "w = torch.tensor(0.0, dtype=torch.float32, requires_grad=True)"
   ]
  },
  {
   "cell_type": "code",
   "execution_count": null,
   "id": "02b6bc5b",
   "metadata": {
    "lines_to_next_cell": 1
   },
   "outputs": [],
   "source": [
    "def forward(x):\n",
    "    return w * x"
   ]
  },
  {
   "cell_type": "code",
   "execution_count": null,
   "id": "6bb0abf2",
   "metadata": {},
   "outputs": [],
   "source": [
    "print(f'Prediction before training: f(5) = {forward(5).item():.3f}')"
   ]
  },
  {
   "cell_type": "code",
   "execution_count": null,
   "id": "5bbb41ae",
   "metadata": {},
   "outputs": [],
   "source": [
    "# 2) Define loss and optimizer\n",
    "learning_rate = 0.01\n",
    "n_iters = 100"
   ]
  },
  {
   "cell_type": "code",
   "execution_count": null,
   "id": "bc31b106",
   "metadata": {},
   "outputs": [],
   "source": [
    "# callable function\n",
    "loss = nn.MSELoss()"
   ]
  },
  {
   "cell_type": "code",
   "execution_count": null,
   "id": "02ab2c57",
   "metadata": {},
   "outputs": [],
   "source": [
    "optimizer = torch.optim.SGD([w], lr=learning_rate)"
   ]
  },
  {
   "cell_type": "code",
   "execution_count": null,
   "id": "05e502cd",
   "metadata": {},
   "outputs": [],
   "source": [
    "# 3) Training loop\n",
    "for epoch in range(n_iters):\n",
    "    # predict = forward pass\n",
    "    y_predicted = forward(X)\n",
    "\n",
    "    # loss\n",
    "    l = loss(Y, y_predicted)\n",
    "\n",
    "    # calculate gradients = backward pass\n",
    "    l.backward()\n",
    "\n",
    "    # update weights\n",
    "    optimizer.step()\n",
    "\n",
    "    # zero the gradients after updating\n",
    "    optimizer.zero_grad()\n",
    "\n",
    "    if epoch % 10 == 0:\n",
    "        print('epoch ', epoch+1, ': w = ', w, ' loss = ', l)"
   ]
  },
  {
   "cell_type": "code",
   "execution_count": null,
   "id": "32267801",
   "metadata": {},
   "outputs": [],
   "source": [
    "print(f'Prediction after training: f(5) = {forward(5).item():.3f}')"
   ]
  }
 ],
 "metadata": {
  "jupytext": {
   "cell_metadata_filter": "-all",
   "main_language": "python",
   "notebook_metadata_filter": "-all"
  }
 },
 "nbformat": 4,
 "nbformat_minor": 5
}
