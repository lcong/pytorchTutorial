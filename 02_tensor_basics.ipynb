{
 "cells": [
  {
   "cell_type": "code",
   "execution_count": 1,
   "id": "43734451",
   "metadata": {
    "ExecuteTime": {
     "end_time": "2024-04-09T01:28:17.877435Z",
     "start_time": "2024-04-09T01:28:08.249253Z"
    }
   },
   "outputs": [],
   "source": [
    "import torch\n",
    "from icecream import ic"
   ]
  },
  {
   "cell_type": "markdown",
   "id": "65193f5f",
   "metadata": {},
   "source": [
    "Everything in pytorch is based on Tensor operations.\n",
    "A tensor can have different dimensions\n",
    "so it can be 1d, 2d, or even 3d and higher"
   ]
  },
  {
   "cell_type": "markdown",
   "id": "0a5a92cf",
   "metadata": {},
   "source": [
    "scalar, vector, matrix, tensor"
   ]
  },
  {
   "cell_type": "code",
   "execution_count": 2,
   "id": "68a5c1e3",
   "metadata": {
    "ExecuteTime": {
     "end_time": "2024-04-09T01:28:18.166146Z",
     "start_time": "2024-04-09T01:28:17.896447Z"
    }
   },
   "outputs": [
    {
     "name": "stderr",
     "output_type": "stream",
     "text": [
      "ic| x: tensor([3.2329e-27])\n",
      "ic| x: tensor([0., 0., 0.])\n",
      "ic| x: tensor([[0., 0., 0.],\n",
      "               [0., 0., 0.]])\n",
      "ic| x: tensor([[[0., 0., 0.],\n",
      "                [0., 0., 0.]],\n",
      "       \n",
      "               [[0., 0., 0.],\n",
      "                [0., 0., 0.]]])\n"
     ]
    },
    {
     "data": {
      "text/plain": [
       "tensor([[[0., 0., 0.],\n",
       "         [0., 0., 0.]],\n",
       "\n",
       "        [[0., 0., 0.],\n",
       "         [0., 0., 0.]]])"
      ]
     },
     "execution_count": 2,
     "metadata": {},
     "output_type": "execute_result"
    }
   ],
   "source": [
    "# torch.empty(size): uninitiallized\n",
    "x = torch.empty(1)  # scalar\n",
    "ic(x)\n",
    "x = torch.empty(3)  # vector, 1D\n",
    "ic(x)\n",
    "x = torch.empty(2, 3)  # matrix, 2D\n",
    "ic(x)\n",
    "x = torch.empty(2, 2, 3)  # tensor, 3 dimensions\n",
    "# x = torch.empty(2,2,2,3) # tensor, 4 dimensions\n",
    "ic(x)"
   ]
  },
  {
   "cell_type": "code",
   "execution_count": null,
   "id": "233d9fa1",
   "metadata": {
    "ExecuteTime": {
     "end_time": "2024-04-09T01:28:19.091378Z",
     "start_time": "2024-04-09T01:28:19.091378Z"
    }
   },
   "outputs": [],
   "source": [
    "# torch.rand(size): random numbers [0, 1]\n",
    "x = torch.rand(5, 3)\n",
    "ic(x)\n",
    "ic(x.dim)\n",
    "ic(x.shape)\n",
    "x=x.view(-1,1)\n",
    "ic(x.shape)"
   ]
  },
  {
   "cell_type": "code",
   "execution_count": null,
   "id": "ad43b728",
   "metadata": {
    "ExecuteTime": {
     "end_time": "2024-04-09T01:28:19.094375Z",
     "start_time": "2024-04-09T01:28:19.094375Z"
    }
   },
   "outputs": [],
   "source": [
    "# torch.zeros(size), fill with 0\n",
    "# torch.ones(size), fill with 1\n",
    "x = torch.zeros(5, 3)\n",
    "ic(x)"
   ]
  },
  {
   "cell_type": "code",
   "execution_count": null,
   "id": "552e1371",
   "metadata": {
    "ExecuteTime": {
     "end_time": "2024-04-09T01:28:19.098372Z",
     "start_time": "2024-04-09T01:28:19.098372Z"
    }
   },
   "outputs": [],
   "source": [
    "# check size\n",
    "ic(x.size())\n",
    "ic(x.shape)\n",
    "# check data type\n",
    "ic(x.dtype)"
   ]
  },
  {
   "cell_type": "code",
   "execution_count": null,
   "id": "2ab8da8b",
   "metadata": {
    "ExecuteTime": {
     "end_time": "2024-04-09T01:28:19.106036Z",
     "start_time": "2024-04-09T01:28:19.106036Z"
    }
   },
   "outputs": [],
   "source": [
    "# specify types, float32 default\n",
    "x = torch.zeros(5, 3, dtype=torch.float16)\n",
    "ic(x)"
   ]
  },
  {
   "cell_type": "code",
   "execution_count": null,
   "id": "a9c37400",
   "metadata": {
    "ExecuteTime": {
     "end_time": "2024-04-09T01:28:19.111015Z",
     "start_time": "2024-04-09T01:28:19.111015Z"
    }
   },
   "outputs": [],
   "source": [
    "# check type\n",
    "ic(x.dtype)"
   ]
  },
  {
   "cell_type": "code",
   "execution_count": null,
   "id": "df33587b",
   "metadata": {
    "ExecuteTime": {
     "end_time": "2024-04-09T01:28:19.115015Z",
     "start_time": "2024-04-09T01:28:19.115015Z"
    }
   },
   "outputs": [],
   "source": [
    "# construct from data\n",
    "x = torch.tensor([5.5, 3])\n",
    "ic(x.size())\n",
    "ic(x.shape)"
   ]
  },
  {
   "cell_type": "code",
   "execution_count": null,
   "id": "824b115f",
   "metadata": {
    "ExecuteTime": {
     "end_time": "2024-04-09T01:28:19.120273Z",
     "start_time": "2024-04-09T01:28:19.120273Z"
    }
   },
   "outputs": [],
   "source": [
    "# requires_grad argument\n",
    "# This will tell pytorch that it will need to calculate the gradients for this tensor\n",
    "# later in your optimization steps\n",
    "# i.e. this is a variable in your model that you want to optimize\n",
    "x = torch.tensor([5.5, 3], requires_grad=True)\n",
    "ic(x)"
   ]
  },
  {
   "cell_type": "code",
   "execution_count": 5,
   "id": "bd699cd6",
   "metadata": {
    "ExecuteTime": {
     "end_time": "2024-04-09T01:28:35.964974Z",
     "start_time": "2024-04-09T01:28:35.942957Z"
    }
   },
   "outputs": [],
   "source": [
    "# Operations\n",
    "y = torch.rand(2, 2)\n",
    "x = torch.rand(2, 2)\n"
   ]
  },
  {
   "cell_type": "code",
   "execution_count": 6,
   "id": "fd61a270",
   "metadata": {
    "ExecuteTime": {
     "end_time": "2024-04-09T01:28:37.974862Z",
     "start_time": "2024-04-09T01:28:37.960494Z"
    }
   },
   "outputs": [],
   "source": [
    "# elementwise addition\n",
    "z = x + y\n",
    "# torch.add(x,y)"
   ]
  },
  {
   "cell_type": "markdown",
   "id": "d37b51a6",
   "metadata": {},
   "source": [
    "in place addition, everythin with a trailing underscore is an inplace operation\n",
    "i.e. it will modify the variable\n",
    "y.add_(x)"
   ]
  },
  {
   "cell_type": "code",
   "execution_count": 7,
   "id": "09306157",
   "metadata": {
    "ExecuteTime": {
     "end_time": "2024-04-09T01:28:39.548039Z",
     "start_time": "2024-04-09T01:28:39.523909Z"
    }
   },
   "outputs": [],
   "source": [
    "# substraction\n",
    "z = x - y\n",
    "z = torch.sub(x, y)"
   ]
  },
  {
   "cell_type": "code",
   "execution_count": 8,
   "id": "4f0878eb",
   "metadata": {
    "ExecuteTime": {
     "end_time": "2024-04-09T01:28:41.213057Z",
     "start_time": "2024-04-09T01:28:41.202973Z"
    }
   },
   "outputs": [],
   "source": [
    "# multiplication\n",
    "z = x * y\n",
    "z = torch.mul(x, y)"
   ]
  },
  {
   "cell_type": "code",
   "execution_count": null,
   "id": "75561f84",
   "metadata": {},
   "outputs": [],
   "source": []
  },
  {
   "cell_type": "code",
   "execution_count": 9,
   "id": "db4fab1b",
   "metadata": {
    "ExecuteTime": {
     "end_time": "2024-04-09T01:28:45.886199Z",
     "start_time": "2024-04-09T01:28:45.873074Z"
    }
   },
   "outputs": [],
   "source": [
    "# division\n",
    "z = x / y\n",
    "z = torch.div(x, y)"
   ]
  },
  {
   "cell_type": "code",
   "execution_count": 10,
   "id": "1dd5efb7",
   "metadata": {
    "ExecuteTime": {
     "end_time": "2024-04-09T01:28:47.580609Z",
     "start_time": "2024-04-09T01:28:47.337055Z"
    }
   },
   "outputs": [
    {
     "name": "stderr",
     "output_type": "stream",
     "text": [
      "ic| x: tensor([[0.6571, 0.4132, 0.9488],\n",
      "               [0.5992, 0.2031, 0.0740],\n",
      "               [0.9701, 0.4894, 0.2960],\n",
      "               [0.7737, 0.2852, 0.7675],\n",
      "               [0.1031, 0.6315, 0.0447]])\n",
      "ic| x[:, 0]: tensor([0.6571, 0.5992, 0.9701, 0.7737, 0.1031])\n",
      "ic| x[1, :]: tensor([0.5992, 0.2031, 0.0740])\n",
      "ic| x[1, 1]: tensor(0.2031)\n"
     ]
    },
    {
     "data": {
      "text/plain": [
       "tensor(0.2031)"
      ]
     },
     "execution_count": 10,
     "metadata": {},
     "output_type": "execute_result"
    }
   ],
   "source": [
    "# Slicing\n",
    "x = torch.rand(5, 3)\n",
    "ic(x)\n",
    "ic(x[:, 0])  # all rows, column 0\n",
    "ic(x[1, :])  # row 1, all columns\n",
    "ic(x[1, 1])  # element at 1, 1"
   ]
  },
  {
   "cell_type": "code",
   "execution_count": 11,
   "id": "40a9e730",
   "metadata": {
    "ExecuteTime": {
     "end_time": "2024-04-09T01:28:49.620282Z",
     "start_time": "2024-04-09T01:28:49.579593Z"
    }
   },
   "outputs": [
    {
     "name": "stderr",
     "output_type": "stream",
     "text": [
      "ic| x[1, 1].item(): 0.20311230421066284\n"
     ]
    },
    {
     "data": {
      "text/plain": [
       "0.20311230421066284"
      ]
     },
     "execution_count": 11,
     "metadata": {},
     "output_type": "execute_result"
    }
   ],
   "source": [
    "# Get the actual value if only 1 element in your tensor\n",
    "ic(x[1, 1].item())"
   ]
  },
  {
   "cell_type": "code",
   "execution_count": 12,
   "id": "61e6e0e9",
   "metadata": {
    "ExecuteTime": {
     "end_time": "2024-04-09T01:28:51.734018Z",
     "start_time": "2024-04-09T01:28:51.647051Z"
    }
   },
   "outputs": [
    {
     "name": "stderr",
     "output_type": "stream",
     "text": [
      "ic| x.size(): torch.Size([4, 4])\n",
      "    y.size(): torch.Size([16])\n",
      "    z.size(): torch.Size([2, 8])\n"
     ]
    },
    {
     "data": {
      "text/plain": [
       "(torch.Size([4, 4]), torch.Size([16]), torch.Size([2, 8]))"
      ]
     },
     "execution_count": 12,
     "metadata": {},
     "output_type": "execute_result"
    }
   ],
   "source": [
    "# Reshape with torch.view()\n",
    "x = torch.randn(4, 4)\n",
    "y = x.view(16)\n",
    "z = x.view(-1, 8)  # the size -1 is inferred from other dimensions\n",
    "# if -1 it pytorch will automatically determine the necessary size\n",
    "ic(x.size(), y.size(), z.size())"
   ]
  },
  {
   "cell_type": "code",
   "execution_count": 13,
   "id": "aff5fb97",
   "metadata": {
    "ExecuteTime": {
     "end_time": "2024-04-09T01:28:53.910478Z",
     "start_time": "2024-04-09T01:28:53.846788Z"
    }
   },
   "outputs": [
    {
     "name": "stderr",
     "output_type": "stream",
     "text": [
      "ic| a[0].shape: torch.Size([3, 28, 28])\n"
     ]
    },
    {
     "data": {
      "text/plain": [
       "torch.Size([4, 3, 28, 28])"
      ]
     },
     "execution_count": 13,
     "metadata": {},
     "output_type": "execute_result"
    }
   ],
   "source": [
    "# create a 4-dim  tensor\n",
    "a = torch.rand(4,3,28,28)\n",
    "ic(a[0].shape)\n",
    "\n",
    "# ... all\n",
    "a[...].shape"
   ]
  },
  {
   "cell_type": "code",
   "execution_count": 14,
   "id": "4ac91ab4",
   "metadata": {
    "ExecuteTime": {
     "end_time": "2024-04-09T01:28:56.115269Z",
     "start_time": "2024-04-09T01:28:55.760330Z"
    }
   },
   "outputs": [
    {
     "name": "stderr",
     "output_type": "stream",
     "text": [
      "ic| a[0][0].shape: torch.Size([28, 28])\n",
      "ic| a[0,0,2,4]: tensor(0.4558)\n",
      "ic| a[:2].shape: torch.Size([2, 3, 28, 28])\n",
      "ic| a[:2,:1,:,:].shape: torch.Size([2, 1, 28, 28])\n",
      "ic| a.shape: torch.Size([4, 3, 28, 28])\n",
      "ic| a[:,:,0:28:2,0:28:2].shape: torch.Size([4, 3, 14, 14])\n",
      "ic| a[0,...].shape: torch.Size([3, 28, 28])\n"
     ]
    },
    {
     "data": {
      "text/plain": [
       "torch.Size([3, 28, 28])"
      ]
     },
     "execution_count": 14,
     "metadata": {},
     "output_type": "execute_result"
    }
   ],
   "source": [
    "ic(a[0][0].shape)\n",
    "ic(a[0,0,2,4])\n",
    "# ic(a)\n",
    "ic(a[:2].shape)\n",
    "ic(a[:2,:1,:,:].shape)\n",
    "ic(a.shape)\n",
    "\n",
    "# select by steps\n",
    "ic(a[:,:,0:28:2,0:28:2].shape)\n",
    "ic(a[0,...].shape)\n"
   ]
  },
  {
   "cell_type": "code",
   "execution_count": 15,
   "id": "f0388890",
   "metadata": {
    "ExecuteTime": {
     "end_time": "2024-04-09T01:28:58.204393Z",
     "start_time": "2024-04-09T01:28:58.054452Z"
    }
   },
   "outputs": [
    {
     "name": "stderr",
     "output_type": "stream",
     "text": [
      "ic| x: tensor([[-0.1662, -0.8114, -3.0582,  1.6215],\n",
      "               [-1.5722,  0.7286, -0.4503,  0.9735],\n",
      "               [-0.7637,  0.2155,  2.6432, -0.4467]])\n",
      "ic| torch.masked_select(x,mask): tensor([1.6215, 0.7286, 0.9735, 2.6432])\n"
     ]
    },
    {
     "data": {
      "text/plain": [
       "tensor([1.6215, 0.7286, 0.9735, 2.6432])"
      ]
     },
     "execution_count": 15,
     "metadata": {},
     "output_type": "execute_result"
    }
   ],
   "source": [
    "x = torch.randn(3,4)\n",
    "ic(x)\n",
    "# select by mask\n",
    "mask=x.ge(0.5)\n",
    "ic(torch.masked_select(x,mask))"
   ]
  },
  {
   "cell_type": "code",
   "execution_count": 97,
   "id": "6ac4a33c",
   "metadata": {
    "ExecuteTime": {
     "end_time": "2024-04-08T14:16:07.563523Z",
     "start_time": "2024-04-08T14:16:07.462949Z"
    }
   },
   "outputs": [
    {
     "name": "stderr",
     "output_type": "stream",
     "text": [
      "ic| b: tensor([[4, 3, 5],\n",
      "               [9, 7, 8]])\n",
      "ic| torch.take(b,torch.tensor([0,3,5])): tensor([4, 9, 8])\n"
     ]
    },
    {
     "data": {
      "text/plain": [
       "tensor([4, 9, 8])"
      ]
     },
     "execution_count": 97,
     "metadata": {},
     "output_type": "execute_result"
    }
   ],
   "source": [
    "b= torch.tensor([[4,3,5],[9,7,8]])\n",
    "\n",
    "# select by flatten index\n",
    "\n",
    "ic(b)\n",
    "ic((torch.take(b,torch.tensor([0,3,5]))))"
   ]
  },
  {
   "cell_type": "code",
   "execution_count": null,
   "id": "148630d0",
   "metadata": {},
   "outputs": [],
   "source": [
    "# Numpy\n",
    "# Converting a Torch Tensor to a NumPy array and vice versa is very easy\n",
    "a = torch.ones(5)\n",
    "ic(a)"
   ]
  },
  {
   "cell_type": "code",
   "execution_count": null,
   "id": "f6ad0207",
   "metadata": {},
   "outputs": [],
   "source": [
    "# torch to numpy with .numpy()\n",
    "b = a.numpy()\n",
    "ic(b)\n",
    "ic(type(b))"
   ]
  },
  {
   "cell_type": "code",
   "execution_count": null,
   "id": "2ba97658",
   "metadata": {},
   "outputs": [],
   "source": [
    "# Carful: If the Tensor is on the CPU (not the GPU),\n",
    "# both objects will share the same memory location, so changing one\n",
    "# will also change the other\n",
    "a.add_(1)\n",
    "ic(a)\n",
    "ic(b)"
   ]
  },
  {
   "cell_type": "code",
   "execution_count": null,
   "id": "0110c934",
   "metadata": {},
   "outputs": [],
   "source": [
    "# numpy to torch with .from_numpy(x)\n",
    "import numpy as np"
   ]
  },
  {
   "cell_type": "code",
   "execution_count": null,
   "id": "426ed6da",
   "metadata": {},
   "outputs": [],
   "source": [
    "a = np.ones(5)\n",
    "b = torch.from_numpy(a)\n",
    "ic(a)\n",
    "ic(b)"
   ]
  },
  {
   "cell_type": "code",
   "execution_count": null,
   "id": "737ea517",
   "metadata": {},
   "outputs": [],
   "source": [
    "# again be careful when modifying\n",
    "a += 1\n",
    "ic(a)\n",
    "ic(b)"
   ]
  },
  {
   "cell_type": "code",
   "execution_count": null,
   "id": "67f5936f",
   "metadata": {},
   "outputs": [],
   "source": [
    "# by default all tensors are created on the CPU,\n",
    "# but you can also move them to the GPU (only if it's available )\n",
    "if torch.cuda.is_available():\n",
    "    device = torch.device(\"cuda\")  # a CUDA device object\n",
    "    y = torch.ones_like(x, device=device)  # directly create a tensor on GPU\n",
    "    x = x.to(device)  # or just use strings ``.to(\"cuda\")``\n",
    "    z = x + y\n",
    "    # z = z.numpy() # not possible because numpy cannot handle GPU tenors\n",
    "    # move to CPU again\n",
    "    z.to(\"cpu\")  # ``.to`` can also change dtype together!\n",
    "    # z = z.numpy()"
   ]
  }
 ],
 "metadata": {
  "hide_input": false,
  "jupytext": {
   "cell_metadata_filter": "-all",
   "main_language": "python",
   "notebook_metadata_filter": "-all"
  },
  "kernelspec": {
   "display_name": "Python 3 (ipykernel)",
   "language": "python",
   "name": "python3"
  },
  "language_info": {
   "codemirror_mode": {
    "name": "ipython",
    "version": 3
   },
   "file_extension": ".py",
   "mimetype": "text/x-python",
   "name": "python",
   "nbconvert_exporter": "python",
   "pygments_lexer": "ipython3",
   "version": "3.8.18"
  },
  "toc": {
   "base_numbering": 1,
   "nav_menu": {
    "height": "249px",
    "width": "160px"
   },
   "number_sections": true,
   "sideBar": true,
   "skip_h1_title": false,
   "title_cell": "Table of Contents",
   "title_sidebar": "Contents",
   "toc_cell": false,
   "toc_position": {},
   "toc_section_display": true,
   "toc_window_display": false
  },
  "varInspector": {
   "cols": {
    "lenName": 16,
    "lenType": 16,
    "lenVar": 40
   },
   "kernels_config": {
    "python": {
     "delete_cmd_postfix": "",
     "delete_cmd_prefix": "del ",
     "library": "var_list.py",
     "varRefreshCmd": "print(var_dic_list())"
    },
    "r": {
     "delete_cmd_postfix": ") ",
     "delete_cmd_prefix": "rm(",
     "library": "var_list.r",
     "varRefreshCmd": "cat(var_dic_list()) "
    }
   },
   "types_to_exclude": [
    "module",
    "function",
    "builtin_function_or_method",
    "instance",
    "_Feature"
   ],
   "window_display": false
  }
 },
 "nbformat": 4,
 "nbformat_minor": 5
}
