{
 "cells": [
  {
   "cell_type": "code",
   "execution_count": 49,
   "id": "43734451",
   "metadata": {
    "ExecuteTime": {
     "end_time": "2024-04-08T13:57:17.948485Z",
     "start_time": "2024-04-08T13:57:17.930008Z"
    }
   },
   "outputs": [],
   "source": [
    "import torch\n",
    "from icecream import ic"
   ]
  },
  {
   "cell_type": "markdown",
   "id": "65193f5f",
   "metadata": {},
   "source": [
    "Everything in pytorch is based on Tensor operations.\n",
    "A tensor can have different dimensions\n",
    "so it can be 1d, 2d, or even 3d and higher"
   ]
  },
  {
   "cell_type": "markdown",
   "id": "0a5a92cf",
   "metadata": {},
   "source": [
    "scalar, vector, matrix, tensor"
   ]
  },
  {
   "cell_type": "code",
   "execution_count": 50,
   "id": "68a5c1e3",
   "metadata": {
    "ExecuteTime": {
     "end_time": "2024-04-08T13:57:18.129807Z",
     "start_time": "2024-04-08T13:57:17.952897Z"
    }
   },
   "outputs": [
    {
     "name": "stderr",
     "output_type": "stream",
     "text": [
      "ic| x: tensor([1.0842e-19])\n",
      "ic| x: tensor([-1.2630e-29,  1.0972e-42,  2.3694e-38])\n",
      "ic| x: tensor([[-1.2823e-29,  1.0972e-42,  0.0000e+00],\n",
      "               [ 0.0000e+00,  0.0000e+00,  0.0000e+00]])\n",
      "ic| x: tensor([[[0., 0., 0.],\n",
      "                [0., 0., 0.]],\n",
      "       \n",
      "               [[0., 0., 0.],\n",
      "                [0., 0., 0.]]])\n"
     ]
    },
    {
     "data": {
      "text/plain": [
       "tensor([[[0., 0., 0.],\n",
       "         [0., 0., 0.]],\n",
       "\n",
       "        [[0., 0., 0.],\n",
       "         [0., 0., 0.]]])"
      ]
     },
     "execution_count": 50,
     "metadata": {},
     "output_type": "execute_result"
    }
   ],
   "source": [
    "# torch.empty(size): uninitiallized\n",
    "x = torch.empty(1)  # scalar\n",
    "ic(x)\n",
    "x = torch.empty(3)  # vector, 1D\n",
    "ic(x)\n",
    "x = torch.empty(2, 3)  # matrix, 2D\n",
    "ic(x)\n",
    "x = torch.empty(2, 2, 3)  # tensor, 3 dimensions\n",
    "# x = torch.empty(2,2,2,3) # tensor, 4 dimensions\n",
    "ic(x)"
   ]
  },
  {
   "cell_type": "code",
   "execution_count": 51,
   "id": "233d9fa1",
   "metadata": {
    "ExecuteTime": {
     "end_time": "2024-04-08T13:57:18.327631Z",
     "start_time": "2024-04-08T13:57:18.133800Z"
    }
   },
   "outputs": [
    {
     "name": "stderr",
     "output_type": "stream",
     "text": [
      "ic| x: tensor([[0.0032, 0.5716, 0.8747],\n",
      "               [0.3204, 0.4877, 0.9229],\n",
      "               [0.6943, 0.9788, 0.5719],\n",
      "               [0.8311, 0.9558, 0.4234],\n",
      "               [0.5475, 0.2182, 0.2137]])\n",
      "ic| x.dim: <built-in method dim of Tensor object at 0x0000014BEDD679F0>\n",
      "ic| x.shape: torch.Size([5, 3])\n",
      "ic| x.shape: torch.Size([15, 1])\n"
     ]
    },
    {
     "data": {
      "text/plain": [
       "torch.Size([15, 1])"
      ]
     },
     "execution_count": 51,
     "metadata": {},
     "output_type": "execute_result"
    }
   ],
   "source": [
    "# torch.rand(size): random numbers [0, 1]\n",
    "x = torch.rand(5, 3)\n",
    "ic(x)\n",
    "ic(x.dim)\n",
    "ic(x.shape)\n",
    "x=x.view(-1,1)\n",
    "ic(x.shape)"
   ]
  },
  {
   "cell_type": "code",
   "execution_count": 52,
   "id": "ad43b728",
   "metadata": {
    "ExecuteTime": {
     "end_time": "2024-04-08T13:57:18.417465Z",
     "start_time": "2024-04-08T13:57:18.331149Z"
    }
   },
   "outputs": [
    {
     "name": "stderr",
     "output_type": "stream",
     "text": [
      "ic| x: tensor([[0., 0., 0.],\n",
      "               [0., 0., 0.],\n",
      "               [0., 0., 0.],\n",
      "               [0., 0., 0.],\n",
      "               [0., 0., 0.]])\n"
     ]
    },
    {
     "data": {
      "text/plain": [
       "tensor([[0., 0., 0.],\n",
       "        [0., 0., 0.],\n",
       "        [0., 0., 0.],\n",
       "        [0., 0., 0.],\n",
       "        [0., 0., 0.]])"
      ]
     },
     "execution_count": 52,
     "metadata": {},
     "output_type": "execute_result"
    }
   ],
   "source": [
    "# torch.zeros(size), fill with 0\n",
    "# torch.ones(size), fill with 1\n",
    "x = torch.zeros(5, 3)\n",
    "ic(x)"
   ]
  },
  {
   "cell_type": "code",
   "execution_count": 53,
   "id": "552e1371",
   "metadata": {
    "ExecuteTime": {
     "end_time": "2024-04-08T13:57:18.493992Z",
     "start_time": "2024-04-08T13:57:18.421977Z"
    }
   },
   "outputs": [
    {
     "name": "stderr",
     "output_type": "stream",
     "text": [
      "ic| x.size(): torch.Size([5, 3])\n",
      "ic| x.shape: torch.Size([5, 3])\n"
     ]
    },
    {
     "data": {
      "text/plain": [
       "torch.Size([5, 3])"
      ]
     },
     "execution_count": 53,
     "metadata": {},
     "output_type": "execute_result"
    }
   ],
   "source": [
    "# check size\n",
    "ic(x.size())\n",
    "ic(x.shape)"
   ]
  },
  {
   "cell_type": "code",
   "execution_count": 54,
   "id": "b68b7816",
   "metadata": {
    "ExecuteTime": {
     "end_time": "2024-04-08T13:57:18.524148Z",
     "start_time": "2024-04-08T13:57:18.497928Z"
    }
   },
   "outputs": [
    {
     "name": "stderr",
     "output_type": "stream",
     "text": [
      "ic| x.dtype: torch.float32\n"
     ]
    },
    {
     "data": {
      "text/plain": [
       "torch.float32"
      ]
     },
     "execution_count": 54,
     "metadata": {},
     "output_type": "execute_result"
    }
   ],
   "source": [
    "# check data type\n",
    "ic(x.dtype)"
   ]
  },
  {
   "cell_type": "code",
   "execution_count": 55,
   "id": "2ab8da8b",
   "metadata": {
    "ExecuteTime": {
     "end_time": "2024-04-08T13:57:18.616271Z",
     "start_time": "2024-04-08T13:57:18.528164Z"
    }
   },
   "outputs": [
    {
     "name": "stderr",
     "output_type": "stream",
     "text": [
      "ic| x: tensor([[0., 0., 0.],\n",
      "               [0., 0., 0.],\n",
      "               [0., 0., 0.],\n",
      "               [0., 0., 0.],\n",
      "               [0., 0., 0.]], dtype=torch.float16)\n"
     ]
    },
    {
     "data": {
      "text/plain": [
       "tensor([[0., 0., 0.],\n",
       "        [0., 0., 0.],\n",
       "        [0., 0., 0.],\n",
       "        [0., 0., 0.],\n",
       "        [0., 0., 0.]], dtype=torch.float16)"
      ]
     },
     "execution_count": 55,
     "metadata": {},
     "output_type": "execute_result"
    }
   ],
   "source": [
    "# specify types, float32 default\n",
    "x = torch.zeros(5, 3, dtype=torch.float16)\n",
    "ic(x)"
   ]
  },
  {
   "cell_type": "code",
   "execution_count": 56,
   "id": "a9c37400",
   "metadata": {
    "ExecuteTime": {
     "end_time": "2024-04-08T13:57:18.661626Z",
     "start_time": "2024-04-08T13:57:18.620381Z"
    }
   },
   "outputs": [
    {
     "name": "stderr",
     "output_type": "stream",
     "text": [
      "ic| x.dtype: torch.float16\n"
     ]
    },
    {
     "data": {
      "text/plain": [
       "torch.float16"
      ]
     },
     "execution_count": 56,
     "metadata": {},
     "output_type": "execute_result"
    }
   ],
   "source": [
    "# check type\n",
    "ic(x.dtype)"
   ]
  },
  {
   "cell_type": "code",
   "execution_count": 57,
   "id": "df33587b",
   "metadata": {
    "ExecuteTime": {
     "end_time": "2024-04-08T13:57:18.707533Z",
     "start_time": "2024-04-08T13:57:18.665076Z"
    }
   },
   "outputs": [
    {
     "name": "stderr",
     "output_type": "stream",
     "text": [
      "ic| x.size(): torch.Size([2])\n"
     ]
    },
    {
     "data": {
      "text/plain": [
       "torch.Size([2])"
      ]
     },
     "execution_count": 57,
     "metadata": {},
     "output_type": "execute_result"
    }
   ],
   "source": [
    "# construct from data\n",
    "x = torch.tensor([5.5, 3])\n",
    "ic(x.size())"
   ]
  },
  {
   "cell_type": "code",
   "execution_count": 58,
   "id": "824b115f",
   "metadata": {
    "ExecuteTime": {
     "end_time": "2024-04-08T13:57:18.722385Z",
     "start_time": "2024-04-08T13:57:18.711556Z"
    }
   },
   "outputs": [],
   "source": [
    "# requires_grad argument\n",
    "# This will tell pytorch that it will need to calculate the gradients for this tensor\n",
    "# later in your optimization steps\n",
    "# i.e. this is a variable in your model that you want to optimize\n",
    "x = torch.tensor([5.5, 3], requires_grad=True)"
   ]
  },
  {
   "cell_type": "code",
   "execution_count": 59,
   "id": "bd699cd6",
   "metadata": {
    "ExecuteTime": {
     "end_time": "2024-04-08T13:57:18.737384Z",
     "start_time": "2024-04-08T13:57:18.725382Z"
    }
   },
   "outputs": [],
   "source": [
    "# Operations\n",
    "y = torch.rand(2, 2)\n",
    "x = torch.rand(2, 2)"
   ]
  },
  {
   "cell_type": "code",
   "execution_count": 60,
   "id": "fd61a270",
   "metadata": {
    "ExecuteTime": {
     "end_time": "2024-04-08T13:57:18.752602Z",
     "start_time": "2024-04-08T13:57:18.740601Z"
    }
   },
   "outputs": [],
   "source": [
    "# elementwise addition\n",
    "z = x + y\n",
    "# torch.add(x,y)"
   ]
  },
  {
   "cell_type": "markdown",
   "id": "d37b51a6",
   "metadata": {},
   "source": [
    "in place addition, everythin with a trailing underscore is an inplace operation\n",
    "i.e. it will modify the variable\n",
    "y.add_(x)"
   ]
  },
  {
   "cell_type": "code",
   "execution_count": 61,
   "id": "09306157",
   "metadata": {
    "ExecuteTime": {
     "end_time": "2024-04-08T13:57:18.767602Z",
     "start_time": "2024-04-08T13:57:18.755599Z"
    }
   },
   "outputs": [],
   "source": [
    "# substraction\n",
    "z = x - y\n",
    "z = torch.sub(x, y)"
   ]
  },
  {
   "cell_type": "code",
   "execution_count": 62,
   "id": "4f0878eb",
   "metadata": {
    "ExecuteTime": {
     "end_time": "2024-04-08T13:57:18.782604Z",
     "start_time": "2024-04-08T13:57:18.774600Z"
    }
   },
   "outputs": [],
   "source": [
    "# multiplication\n",
    "z = x * y\n",
    "z = torch.mul(x, y)"
   ]
  },
  {
   "cell_type": "code",
   "execution_count": 63,
   "id": "db4fab1b",
   "metadata": {
    "ExecuteTime": {
     "end_time": "2024-04-08T13:57:18.797778Z",
     "start_time": "2024-04-08T13:57:18.785599Z"
    }
   },
   "outputs": [],
   "source": [
    "# division\n",
    "z = x / y\n",
    "z = torch.div(x, y)"
   ]
  },
  {
   "cell_type": "code",
   "execution_count": 64,
   "id": "1dd5efb7",
   "metadata": {
    "ExecuteTime": {
     "end_time": "2024-04-08T13:57:19.011725Z",
     "start_time": "2024-04-08T13:57:18.801817Z"
    }
   },
   "outputs": [
    {
     "name": "stderr",
     "output_type": "stream",
     "text": [
      "ic| x: tensor([[0.6238, 0.0640, 0.2865],\n",
      "               [0.7639, 0.3790, 0.8052],\n",
      "               [0.8490, 0.7459, 0.3109],\n",
      "               [0.1538, 0.1694, 0.0180],\n",
      "               [0.4416, 0.4252, 0.0572]])\n",
      "ic| x[:, 0]: tensor([0.6238, 0.7639, 0.8490, 0.1538, 0.4416])\n",
      "ic| x[1, :]: tensor([0.7639, 0.3790, 0.8052])\n",
      "ic| x[1, 1]: tensor(0.3790)\n"
     ]
    },
    {
     "data": {
      "text/plain": [
       "tensor(0.3790)"
      ]
     },
     "execution_count": 64,
     "metadata": {},
     "output_type": "execute_result"
    }
   ],
   "source": [
    "# Slicing\n",
    "x = torch.rand(5, 3)\n",
    "ic(x)\n",
    "ic(x[:, 0])  # all rows, column 0\n",
    "ic(x[1, :])  # row 1, all columns\n",
    "ic(x[1, 1])  # element at 1, 1"
   ]
  },
  {
   "cell_type": "code",
   "execution_count": 65,
   "id": "40a9e730",
   "metadata": {
    "ExecuteTime": {
     "end_time": "2024-04-08T13:57:19.072033Z",
     "start_time": "2024-04-08T13:57:19.017293Z"
    }
   },
   "outputs": [
    {
     "name": "stderr",
     "output_type": "stream",
     "text": [
      "ic| x[1, 1].item(): 0.379009485244751\n"
     ]
    },
    {
     "data": {
      "text/plain": [
       "0.379009485244751"
      ]
     },
     "execution_count": 65,
     "metadata": {},
     "output_type": "execute_result"
    }
   ],
   "source": [
    "# Get the actual value if only 1 element in your tensor\n",
    "ic(x[1, 1].item())"
   ]
  },
  {
   "cell_type": "code",
   "execution_count": 66,
   "id": "61e6e0e9",
   "metadata": {
    "ExecuteTime": {
     "end_time": "2024-04-08T13:57:19.148357Z",
     "start_time": "2024-04-08T13:57:19.076032Z"
    }
   },
   "outputs": [
    {
     "name": "stderr",
     "output_type": "stream",
     "text": [
      "ic| x.size(): torch.Size([4, 4])\n",
      "    y.size(): torch.Size([16])\n",
      "    z.size(): torch.Size([2, 8])\n"
     ]
    },
    {
     "data": {
      "text/plain": [
       "(torch.Size([4, 4]), torch.Size([16]), torch.Size([2, 8]))"
      ]
     },
     "execution_count": 66,
     "metadata": {},
     "output_type": "execute_result"
    }
   ],
   "source": [
    "# Reshape with torch.view()\n",
    "x = torch.randn(4, 4)\n",
    "y = x.view(16)\n",
    "z = x.view(-1, 8)  # the size -1 is inferred from other dimensions\n",
    "# if -1 it pytorch will automatically determine the necessary size\n",
    "ic(x.size(), y.size(), z.size())"
   ]
  },
  {
   "cell_type": "code",
   "execution_count": 78,
   "id": "b9e72c2b",
   "metadata": {
    "ExecuteTime": {
     "end_time": "2024-04-08T14:02:05.395369Z",
     "start_time": "2024-04-08T14:02:05.342772Z"
    }
   },
   "outputs": [
    {
     "name": "stderr",
     "output_type": "stream",
     "text": [
      "ic| a[0].shape: torch.Size([3, 28, 28])\n"
     ]
    },
    {
     "data": {
      "text/plain": [
       "torch.Size([4, 3, 28, 28])"
      ]
     },
     "execution_count": 78,
     "metadata": {},
     "output_type": "execute_result"
    }
   ],
   "source": [
    "# create a 4-dim  tensor\n",
    "a = torch.rand(4,3,28,28)\n",
    "ic(a[0].shape)\n",
    "a[...].shape"
   ]
  },
  {
   "cell_type": "code",
   "execution_count": 80,
   "id": "f0d0ce80",
   "metadata": {
    "ExecuteTime": {
     "end_time": "2024-04-08T14:02:40.649939Z",
     "start_time": "2024-04-08T14:02:40.389499Z"
    }
   },
   "outputs": [
    {
     "name": "stderr",
     "output_type": "stream",
     "text": [
      "ic| a[0][0].shape: torch.Size([28, 28])\n",
      "ic| a[0,0,2,4]: tensor(0.3009)\n",
      "ic| a[:2].shape: torch.Size([2, 3, 28, 28])\n",
      "ic| a[:2,:1,:,:].shape: torch.Size([2, 1, 28, 28])\n",
      "ic| a.shape: torch.Size([4, 3, 28, 28])\n",
      "ic| a[:,:,0:28:2,0:28:2].shape: torch.Size([4, 3, 14, 14])\n",
      "ic| a[0,...].shape: torch.Size([3, 28, 28])\n"
     ]
    },
    {
     "data": {
      "text/plain": [
       "torch.Size([3, 28, 28])"
      ]
     },
     "execution_count": 80,
     "metadata": {},
     "output_type": "execute_result"
    }
   ],
   "source": [
    "ic(a[0][0].shape)\n",
    "ic(a[0,0,2,4])\n",
    "# ic(a)\n",
    "ic(a[:2].shape)\n",
    "ic(a[:2,:1,:,:].shape)\n",
    "ic(a.shape)\n",
    "ic(a[:,:,0:28:2,0:28:2].shape)\n",
    "ic(a[0,...].shape)\n"
   ]
  },
  {
   "cell_type": "code",
   "execution_count": 82,
   "id": "86e7ee59",
   "metadata": {
    "ExecuteTime": {
     "end_time": "2024-04-08T14:03:58.061875Z",
     "start_time": "2024-04-08T14:03:57.942473Z"
    }
   },
   "outputs": [
    {
     "name": "stderr",
     "output_type": "stream",
     "text": [
      "ic| x: tensor([[-1.2493, -0.4753,  0.7201,  0.9010],\n",
      "               [-0.0434, -1.0270, -0.8996, -0.1165],\n",
      "               [-1.9691, -1.1417,  1.1260,  0.9683]])\n",
      "ic| torch.masked_select(x,mask): tensor([0.7201, 0.9010, 1.1260, 0.9683])\n"
     ]
    },
    {
     "data": {
      "text/plain": [
       "tensor([0.7201, 0.9010, 1.1260, 0.9683])"
      ]
     },
     "execution_count": 82,
     "metadata": {},
     "output_type": "execute_result"
    }
   ],
   "source": [
    "x = torch.randn(3,4)\n",
    "ic(x)\n",
    "mask=x.ge(0.5)\n",
    "ic(torch.masked_select(x,mask))"
   ]
  },
  {
   "cell_type": "code",
   "execution_count": 88,
   "id": "edaf5591",
   "metadata": {
    "ExecuteTime": {
     "end_time": "2024-04-08T14:06:23.555132Z",
     "start_time": "2024-04-08T14:06:23.459662Z"
    }
   },
   "outputs": [
    {
     "name": "stderr",
     "output_type": "stream",
     "text": [
      "ic| b: tensor([[4, 3, 5],\n",
      "               [9, 7, 8]])\n",
      "ic| torch.take(b,torch.tensor([0,3,5])): tensor([4, 9, 8])\n"
     ]
    },
    {
     "data": {
      "text/plain": [
       "tensor([4, 9, 8])"
      ]
     },
     "execution_count": 88,
     "metadata": {},
     "output_type": "execute_result"
    }
   ],
   "source": [
    "### b= torch.tensor([[4,3,5],[9,7,8]])\n",
    "ic(b)\n",
    "ic((torch.take(b,torch.tensor([0,3,5]))))"
   ]
  },
  {
   "cell_type": "code",
   "execution_count": null,
   "id": "148630d0",
   "metadata": {},
   "outputs": [],
   "source": [
    "# Numpy\n",
    "# Converting a Torch Tensor to a NumPy array and vice versa is very easy\n",
    "a = torch.ones(5)\n",
    "ic(a)"
   ]
  },
  {
   "cell_type": "code",
   "execution_count": null,
   "id": "f6ad0207",
   "metadata": {},
   "outputs": [],
   "source": [
    "# torch to numpy with .numpy()\n",
    "b = a.numpy()\n",
    "ic(b)\n",
    "ic(type(b))"
   ]
  },
  {
   "cell_type": "code",
   "execution_count": null,
   "id": "2ba97658",
   "metadata": {},
   "outputs": [],
   "source": [
    "# Carful: If the Tensor is on the CPU (not the GPU),\n",
    "# both objects will share the same memory location, so changing one\n",
    "# will also change the other\n",
    "a.add_(1)\n",
    "ic(a)\n",
    "ic(b)"
   ]
  },
  {
   "cell_type": "code",
   "execution_count": null,
   "id": "0110c934",
   "metadata": {},
   "outputs": [],
   "source": [
    "# numpy to torch with .from_numpy(x)\n",
    "import numpy as np"
   ]
  },
  {
   "cell_type": "code",
   "execution_count": null,
   "id": "426ed6da",
   "metadata": {},
   "outputs": [],
   "source": [
    "a = np.ones(5)\n",
    "b = torch.from_numpy(a)\n",
    "ic(a)\n",
    "ic(b)"
   ]
  },
  {
   "cell_type": "code",
   "execution_count": null,
   "id": "737ea517",
   "metadata": {},
   "outputs": [],
   "source": [
    "# again be careful when modifying\n",
    "a += 1\n",
    "ic(a)\n",
    "ic(b)"
   ]
  },
  {
   "cell_type": "code",
   "execution_count": null,
   "id": "67f5936f",
   "metadata": {},
   "outputs": [],
   "source": [
    "# by default all tensors are created on the CPU,\n",
    "# but you can also move them to the GPU (only if it's available )\n",
    "if torch.cuda.is_available():\n",
    "    device = torch.device(\"cuda\")  # a CUDA device object\n",
    "    y = torch.ones_like(x, device=device)  # directly create a tensor on GPU\n",
    "    x = x.to(device)  # or just use strings ``.to(\"cuda\")``\n",
    "    z = x + y\n",
    "    # z = z.numpy() # not possible because numpy cannot handle GPU tenors\n",
    "    # move to CPU again\n",
    "    z.to(\"cpu\")  # ``.to`` can also change dtype together!\n",
    "    # z = z.numpy()"
   ]
  }
 ],
 "metadata": {
  "jupytext": {
   "cell_metadata_filter": "-all",
   "main_language": "python",
   "notebook_metadata_filter": "-all"
  },
  "kernelspec": {
   "display_name": "Python 3 (ipykernel)",
   "language": "python",
   "name": "python3"
  },
  "language_info": {
   "codemirror_mode": {
    "name": "ipython",
    "version": 3
   },
   "file_extension": ".py",
   "mimetype": "text/x-python",
   "name": "python",
   "nbconvert_exporter": "python",
   "pygments_lexer": "ipython3",
   "version": "3.8.18"
  },
  "toc": {
   "base_numbering": 1,
   "nav_menu": {},
   "number_sections": true,
   "sideBar": true,
   "skip_h1_title": false,
   "title_cell": "Table of Contents",
   "title_sidebar": "Contents",
   "toc_cell": false,
   "toc_position": {},
   "toc_section_display": true,
   "toc_window_display": false
  },
  "varInspector": {
   "cols": {
    "lenName": 16,
    "lenType": 16,
    "lenVar": 40
   },
   "kernels_config": {
    "python": {
     "delete_cmd_postfix": "",
     "delete_cmd_prefix": "del ",
     "library": "var_list.py",
     "varRefreshCmd": "print(var_dic_list())"
    },
    "r": {
     "delete_cmd_postfix": ") ",
     "delete_cmd_prefix": "rm(",
     "library": "var_list.r",
     "varRefreshCmd": "cat(var_dic_list()) "
    }
   },
   "types_to_exclude": [
    "module",
    "function",
    "builtin_function_or_method",
    "instance",
    "_Feature"
   ],
   "window_display": false
  }
 },
 "nbformat": 4,
 "nbformat_minor": 5
}
