{
 "cells": [
  {
   "cell_type": "code",
   "execution_count": 2,
   "id": "43734451",
   "metadata": {
    "ExecuteTime": {
     "end_time": "2024-04-09T09:40:47.804313Z",
     "start_time": "2024-04-09T09:40:47.800314Z"
    }
   },
   "outputs": [],
   "source": [
    "import torch\n",
    "from icecream import ic"
   ]
  },
  {
   "cell_type": "markdown",
   "id": "65193f5f",
   "metadata": {},
   "source": [
    "Everything in pytorch is based on Tensor operations.\n",
    "A tensor can have different dimensions\n",
    "so it can be 1d, 2d, or even 3d and higher"
   ]
  },
  {
   "cell_type": "markdown",
   "id": "0a5a92cf",
   "metadata": {},
   "source": [
    "scalar, vector, matrix, tensor"
   ]
  },
  {
   "cell_type": "code",
   "execution_count": 3,
   "id": "68a5c1e3",
   "metadata": {
    "ExecuteTime": {
     "end_time": "2024-04-09T09:40:50.266509Z",
     "start_time": "2024-04-09T09:40:50.136329Z"
    }
   },
   "outputs": [
    {
     "name": "stderr",
     "output_type": "stream",
     "text": [
      "ic| x: tensor([0.])\n",
      "ic| x: tensor([0., 0., 0.])\n",
      "ic| x: tensor([[0., 0., 0.],\n",
      "               [0., 0., 0.]])\n",
      "ic| x: tensor([[[0., 0., 0.],\n",
      "                [0., 0., 0.]],\n",
      "       \n",
      "               [[0., 0., 0.],\n",
      "                [0., 0., 0.]]])\n"
     ]
    },
    {
     "data": {
      "text/plain": [
       "tensor([[[0., 0., 0.],\n",
       "         [0., 0., 0.]],\n",
       "\n",
       "        [[0., 0., 0.],\n",
       "         [0., 0., 0.]]])"
      ]
     },
     "execution_count": 3,
     "metadata": {},
     "output_type": "execute_result"
    }
   ],
   "source": [
    "# torch.empty(size): uninitiallized\n",
    "x = torch.empty(1)  # scalar\n",
    "ic(x)\n",
    "x = torch.empty(3)  # vector, 1D\n",
    "ic(x)\n",
    "x = torch.empty(2, 3)  # matrix, 2D\n",
    "ic(x)\n",
    "x = torch.empty(2, 2, 3)  # tensor, 3 dimensions\n",
    "# x = torch.empty(2,2,2,3) # tensor, 4 dimensions\n",
    "ic(x)"
   ]
  },
  {
   "cell_type": "code",
   "execution_count": 4,
   "id": "233d9fa1",
   "metadata": {
    "ExecuteTime": {
     "end_time": "2024-04-09T09:40:52.076249Z",
     "start_time": "2024-04-09T09:40:51.959584Z"
    }
   },
   "outputs": [
    {
     "name": "stderr",
     "output_type": "stream",
     "text": [
      "ic| x: tensor([[0.3756, 0.5946, 0.4614],\n",
      "               [0.8629, 0.8451, 0.6223],\n",
      "               [0.3468, 0.3086, 0.7890],\n",
      "               [0.4587, 0.0944, 0.7890],\n",
      "               [0.1625, 0.9321, 0.9804]])\n",
      "ic| x.dim: <built-in method dim of Tensor object at 0x0000023AAE0D9860>\n",
      "ic| x.shape: torch.Size([5, 3])\n",
      "ic| x.shape: torch.Size([15, 1])\n"
     ]
    },
    {
     "data": {
      "text/plain": [
       "torch.Size([15, 1])"
      ]
     },
     "execution_count": 4,
     "metadata": {},
     "output_type": "execute_result"
    }
   ],
   "source": [
    "# torch.rand(size): random numbers [0, 1]\n",
    "x = torch.rand(5, 3)\n",
    "ic(x)\n",
    "ic(x.dim)\n",
    "ic(x.shape)\n",
    "x=x.view(-1,1)\n",
    "ic(x.shape)"
   ]
  },
  {
   "cell_type": "code",
   "execution_count": 5,
   "id": "ad43b728",
   "metadata": {
    "ExecuteTime": {
     "end_time": "2024-04-09T09:40:53.075255Z",
     "start_time": "2024-04-09T09:40:53.014504Z"
    }
   },
   "outputs": [
    {
     "name": "stderr",
     "output_type": "stream",
     "text": [
      "ic| x: tensor([[0., 0., 0.],\n",
      "               [0., 0., 0.],\n",
      "               [0., 0., 0.],\n",
      "               [0., 0., 0.],\n",
      "               [0., 0., 0.]])\n"
     ]
    },
    {
     "data": {
      "text/plain": [
       "tensor([[0., 0., 0.],\n",
       "        [0., 0., 0.],\n",
       "        [0., 0., 0.],\n",
       "        [0., 0., 0.],\n",
       "        [0., 0., 0.]])"
      ]
     },
     "execution_count": 5,
     "metadata": {},
     "output_type": "execute_result"
    }
   ],
   "source": [
    "# torch.zeros(size), fill with 0\n",
    "# torch.ones(size), fill with 1\n",
    "x = torch.zeros(5, 3)\n",
    "ic(x)"
   ]
  },
  {
   "cell_type": "code",
   "execution_count": 6,
   "id": "552e1371",
   "metadata": {
    "ExecuteTime": {
     "end_time": "2024-04-09T09:41:00.890485Z",
     "start_time": "2024-04-09T09:41:00.820407Z"
    }
   },
   "outputs": [
    {
     "name": "stderr",
     "output_type": "stream",
     "text": [
      "ic| x.size(): torch.Size([5, 3])\n",
      "ic| x.shape: torch.Size([5, 3])\n",
      "ic| x.dtype: torch.float32\n"
     ]
    },
    {
     "data": {
      "text/plain": [
       "torch.float32"
      ]
     },
     "execution_count": 6,
     "metadata": {},
     "output_type": "execute_result"
    }
   ],
   "source": [
    "# check size\n",
    "ic(x.size())\n",
    "ic(x.shape)\n",
    "# check data type\n",
    "ic(x.dtype)"
   ]
  },
  {
   "cell_type": "code",
   "execution_count": 7,
   "id": "2ab8da8b",
   "metadata": {
    "ExecuteTime": {
     "end_time": "2024-04-09T09:41:03.130380Z",
     "start_time": "2024-04-09T09:41:03.067042Z"
    }
   },
   "outputs": [
    {
     "name": "stderr",
     "output_type": "stream",
     "text": [
      "ic| x: tensor([[0., 0., 0.],\n",
      "               [0., 0., 0.],\n",
      "               [0., 0., 0.],\n",
      "               [0., 0., 0.],\n",
      "               [0., 0., 0.]], dtype=torch.float16)\n"
     ]
    },
    {
     "data": {
      "text/plain": [
       "tensor([[0., 0., 0.],\n",
       "        [0., 0., 0.],\n",
       "        [0., 0., 0.],\n",
       "        [0., 0., 0.],\n",
       "        [0., 0., 0.]], dtype=torch.float16)"
      ]
     },
     "execution_count": 7,
     "metadata": {},
     "output_type": "execute_result"
    }
   ],
   "source": [
    "# specify types, float32 default\n",
    "x = torch.zeros(5, 3, dtype=torch.float16)\n",
    "ic(x)"
   ]
  },
  {
   "cell_type": "code",
   "execution_count": 8,
   "id": "a9c37400",
   "metadata": {
    "ExecuteTime": {
     "end_time": "2024-04-09T09:41:04.556133Z",
     "start_time": "2024-04-09T09:41:04.533041Z"
    }
   },
   "outputs": [
    {
     "name": "stderr",
     "output_type": "stream",
     "text": [
      "ic| x.dtype: torch.float16\n"
     ]
    },
    {
     "data": {
      "text/plain": [
       "torch.float16"
      ]
     },
     "execution_count": 8,
     "metadata": {},
     "output_type": "execute_result"
    }
   ],
   "source": [
    "# check type\n",
    "ic(x.dtype)"
   ]
  },
  {
   "cell_type": "code",
   "execution_count": 9,
   "id": "df33587b",
   "metadata": {
    "ExecuteTime": {
     "end_time": "2024-04-09T09:41:06.147134Z",
     "start_time": "2024-04-09T09:41:06.094280Z"
    }
   },
   "outputs": [
    {
     "name": "stderr",
     "output_type": "stream",
     "text": [
      "ic| x.size(): torch.Size([2])\n",
      "ic| x.shape: torch.Size([2])\n"
     ]
    },
    {
     "data": {
      "text/plain": [
       "torch.Size([2])"
      ]
     },
     "execution_count": 9,
     "metadata": {},
     "output_type": "execute_result"
    }
   ],
   "source": [
    "# construct from data\n",
    "x = torch.tensor([5.5, 3])\n",
    "ic(x.size())\n",
    "ic(x.shape)"
   ]
  },
  {
   "cell_type": "code",
   "execution_count": 10,
   "id": "824b115f",
   "metadata": {
    "ExecuteTime": {
     "end_time": "2024-04-09T09:41:07.525596Z",
     "start_time": "2024-04-09T09:41:07.483594Z"
    }
   },
   "outputs": [
    {
     "name": "stderr",
     "output_type": "stream",
     "text": [
      "ic| x: tensor([5.5000, 3.0000], requires_grad=True)\n"
     ]
    },
    {
     "data": {
      "text/plain": [
       "tensor([5.5000, 3.0000], requires_grad=True)"
      ]
     },
     "execution_count": 10,
     "metadata": {},
     "output_type": "execute_result"
    }
   ],
   "source": [
    "# requires_grad argument\n",
    "# This will tell pytorch that it will need to calculate the gradients for this tensor\n",
    "# later in your optimization steps\n",
    "# i.e. this is a variable in your model that you want to optimize\n",
    "x = torch.tensor([5.5, 3], requires_grad=True)\n",
    "ic(x)"
   ]
  },
  {
   "cell_type": "code",
   "execution_count": 11,
   "id": "bd699cd6",
   "metadata": {
    "ExecuteTime": {
     "end_time": "2024-04-09T09:41:08.311543Z",
     "start_time": "2024-04-09T09:41:08.296539Z"
    }
   },
   "outputs": [],
   "source": [
    "# Operations\n",
    "y = torch.rand(2, 2)\n",
    "x = torch.rand(2, 2)\n"
   ]
  },
  {
   "cell_type": "code",
   "execution_count": 12,
   "id": "fd61a270",
   "metadata": {
    "ExecuteTime": {
     "end_time": "2024-04-09T09:41:10.883061Z",
     "start_time": "2024-04-09T09:41:10.868015Z"
    }
   },
   "outputs": [],
   "source": [
    "# elementwise addition\n",
    "z = x + y\n",
    "# torch.add(x,y)"
   ]
  },
  {
   "cell_type": "markdown",
   "id": "d37b51a6",
   "metadata": {},
   "source": [
    "in place addition, everythin with a trailing underscore is an inplace operation\n",
    "i.e. it will modify the variable\n",
    "y.add_(x)"
   ]
  },
  {
   "cell_type": "code",
   "execution_count": 13,
   "id": "09306157",
   "metadata": {
    "ExecuteTime": {
     "end_time": "2024-04-09T09:41:12.065343Z",
     "start_time": "2024-04-09T09:41:12.051222Z"
    }
   },
   "outputs": [],
   "source": [
    "# substraction\n",
    "z = x - y\n",
    "z = torch.sub(x, y)"
   ]
  },
  {
   "cell_type": "code",
   "execution_count": 14,
   "id": "4f0878eb",
   "metadata": {
    "ExecuteTime": {
     "end_time": "2024-04-09T09:41:12.352672Z",
     "start_time": "2024-04-09T09:41:12.336286Z"
    }
   },
   "outputs": [],
   "source": [
    "# multiplication\n",
    "z = x * y\n",
    "z = torch.mul(x, y)"
   ]
  },
  {
   "cell_type": "code",
   "execution_count": null,
   "id": "75561f84",
   "metadata": {},
   "outputs": [],
   "source": []
  },
  {
   "cell_type": "code",
   "execution_count": 15,
   "id": "db4fab1b",
   "metadata": {
    "ExecuteTime": {
     "end_time": "2024-04-09T09:41:13.168949Z",
     "start_time": "2024-04-09T09:41:13.154951Z"
    }
   },
   "outputs": [],
   "source": [
    "# division\n",
    "z = x / y\n",
    "z = torch.div(x, y)"
   ]
  },
  {
   "cell_type": "code",
   "execution_count": 16,
   "id": "1dd5efb7",
   "metadata": {
    "ExecuteTime": {
     "end_time": "2024-04-09T09:41:13.669364Z",
     "start_time": "2024-04-09T09:41:13.537310Z"
    }
   },
   "outputs": [
    {
     "name": "stderr",
     "output_type": "stream",
     "text": [
      "ic| x: tensor([[0.9303, 0.5343, 0.2429],\n",
      "               [0.2801, 0.1686, 0.3891],\n",
      "               [0.8172, 0.3024, 0.6008],\n",
      "               [0.3181, 0.4802, 0.9206],\n",
      "               [0.7299, 0.5868, 0.3806]])\n",
      "ic| x[:, 0]: tensor([0.9303, 0.2801, 0.8172, 0.3181, 0.7299])\n",
      "ic| x[1, :]: tensor([0.2801, 0.1686, 0.3891])\n",
      "ic| x[1, 1]: tensor(0.1686)\n"
     ]
    },
    {
     "data": {
      "text/plain": [
       "tensor(0.1686)"
      ]
     },
     "execution_count": 16,
     "metadata": {},
     "output_type": "execute_result"
    }
   ],
   "source": [
    "# Slicing\n",
    "x = torch.rand(5, 3)\n",
    "ic(x)\n",
    "ic(x[:, 0])  # all rows, column 0\n",
    "ic(x[1, :])  # row 1, all columns\n",
    "ic(x[1, 1])  # element at 1, 1"
   ]
  },
  {
   "cell_type": "code",
   "execution_count": 17,
   "id": "40a9e730",
   "metadata": {
    "ExecuteTime": {
     "end_time": "2024-04-09T09:41:14.212485Z",
     "start_time": "2024-04-09T09:41:14.171714Z"
    }
   },
   "outputs": [
    {
     "name": "stderr",
     "output_type": "stream",
     "text": [
      "ic| x[1, 1].item(): 0.16856497526168823\n"
     ]
    },
    {
     "data": {
      "text/plain": [
       "0.16856497526168823"
      ]
     },
     "execution_count": 17,
     "metadata": {},
     "output_type": "execute_result"
    }
   ],
   "source": [
    "# Get the actual value if only 1 element in your tensor\n",
    "ic(x[1, 1].item())"
   ]
  },
  {
   "cell_type": "code",
   "execution_count": 18,
   "id": "61e6e0e9",
   "metadata": {
    "ExecuteTime": {
     "end_time": "2024-04-09T09:41:14.788820Z",
     "start_time": "2024-04-09T09:41:14.726881Z"
    }
   },
   "outputs": [
    {
     "name": "stderr",
     "output_type": "stream",
     "text": [
      "ic| x.size(): torch.Size([4, 4])\n",
      "    y.size(): torch.Size([16])\n",
      "    z.size(): torch.Size([2, 8])\n"
     ]
    },
    {
     "data": {
      "text/plain": [
       "(torch.Size([4, 4]), torch.Size([16]), torch.Size([2, 8]))"
      ]
     },
     "execution_count": 18,
     "metadata": {},
     "output_type": "execute_result"
    }
   ],
   "source": [
    "# Reshape with torch.view()\n",
    "x = torch.randn(4, 4)\n",
    "y = x.view(16)\n",
    "z = x.view(-1, 8)  # the size -1 is inferred from other dimensions\n",
    "# if -1 it pytorch will automatically determine the necessary size\n",
    "ic(x.size(), y.size(), z.size())"
   ]
  },
  {
   "cell_type": "code",
   "execution_count": 19,
   "id": "aff5fb97",
   "metadata": {
    "ExecuteTime": {
     "end_time": "2024-04-09T09:41:15.167856Z",
     "start_time": "2024-04-09T09:41:15.136528Z"
    }
   },
   "outputs": [
    {
     "name": "stderr",
     "output_type": "stream",
     "text": [
      "ic| a[0].shape: torch.Size([3, 28, 28])\n"
     ]
    },
    {
     "data": {
      "text/plain": [
       "torch.Size([4, 3, 28, 28])"
      ]
     },
     "execution_count": 19,
     "metadata": {},
     "output_type": "execute_result"
    }
   ],
   "source": [
    "# create a 4-dim  tensor\n",
    "a = torch.rand(4,3,28,28)\n",
    "ic(a[0].shape)\n",
    "\n",
    "# ... all\n",
    "a[...].shape"
   ]
  },
  {
   "cell_type": "code",
   "execution_count": 20,
   "id": "4ac91ab4",
   "metadata": {
    "ExecuteTime": {
     "end_time": "2024-04-09T09:41:15.836167Z",
     "start_time": "2024-04-09T09:41:15.626198Z"
    }
   },
   "outputs": [
    {
     "name": "stderr",
     "output_type": "stream",
     "text": [
      "ic| a[0][0].shape: torch.Size([28, 28])\n",
      "ic| a[0,0,2,4]: tensor(0.5984)\n",
      "ic| a[:2].shape: torch.Size([2, 3, 28, 28])\n",
      "ic| a[:2,:1,:,:].shape: torch.Size([2, 1, 28, 28])\n",
      "ic| a.shape: torch.Size([4, 3, 28, 28])\n",
      "ic| a[:,:,0:28:2,0:28:2].shape: torch.Size([4, 3, 14, 14])\n",
      "ic| a[0,...].shape: torch.Size([3, 28, 28])\n"
     ]
    },
    {
     "data": {
      "text/plain": [
       "torch.Size([3, 28, 28])"
      ]
     },
     "execution_count": 20,
     "metadata": {},
     "output_type": "execute_result"
    }
   ],
   "source": [
    "ic(a[0][0].shape)\n",
    "ic(a[0,0,2,4])\n",
    "# ic(a)\n",
    "ic(a[:2].shape)\n",
    "ic(a[:2,:1,:,:].shape)\n",
    "ic(a.shape)\n",
    "\n",
    "# select by steps\n",
    "ic(a[:,:,0:28:2,0:28:2].shape)\n",
    "ic(a[0,...].shape)\n"
   ]
  },
  {
   "cell_type": "code",
   "execution_count": 21,
   "id": "f0388890",
   "metadata": {
    "ExecuteTime": {
     "end_time": "2024-04-09T09:41:16.106143Z",
     "start_time": "2024-04-09T09:41:16.009724Z"
    }
   },
   "outputs": [
    {
     "name": "stderr",
     "output_type": "stream",
     "text": [
      "ic| x: tensor([[-1.2083, -1.3375, -0.8635, -0.0637],\n",
      "               [ 0.2773, -0.0370,  0.2248,  0.4562],\n",
      "               [ 1.2179,  0.0964, -0.7944, -1.6380]])\n",
      "ic| torch.masked_select(x,mask): tensor([1.2179])\n"
     ]
    },
    {
     "data": {
      "text/plain": [
       "tensor([1.2179])"
      ]
     },
     "execution_count": 21,
     "metadata": {},
     "output_type": "execute_result"
    }
   ],
   "source": [
    "x = torch.randn(3,4)\n",
    "ic(x)\n",
    "# select by mask\n",
    "mask=x.ge(0.5)\n",
    "ic(torch.masked_select(x,mask))"
   ]
  },
  {
   "cell_type": "code",
   "execution_count": 22,
   "id": "6ac4a33c",
   "metadata": {
    "ExecuteTime": {
     "end_time": "2024-04-09T09:41:20.178473Z",
     "start_time": "2024-04-09T09:41:20.091985Z"
    }
   },
   "outputs": [
    {
     "name": "stderr",
     "output_type": "stream",
     "text": [
      "ic| b: tensor([[4, 3, 5],\n",
      "               [9, 7, 8]])\n",
      "ic| torch.take(b,torch.tensor([0,3,5])): tensor([4, 9, 8])\n"
     ]
    },
    {
     "data": {
      "text/plain": [
       "tensor([4, 9, 8])"
      ]
     },
     "execution_count": 22,
     "metadata": {},
     "output_type": "execute_result"
    }
   ],
   "source": [
    "b= torch.tensor([[4,3,5],[9,7,8]])\n",
    "\n",
    "# select by flatten index\n",
    "\n",
    "ic(b)\n",
    "ic((torch.take(b,torch.tensor([0,3,5]))))"
   ]
  },
  {
   "cell_type": "code",
   "execution_count": 23,
   "id": "148630d0",
   "metadata": {
    "ExecuteTime": {
     "end_time": "2024-04-09T09:41:21.630109Z",
     "start_time": "2024-04-09T09:41:21.598895Z"
    }
   },
   "outputs": [
    {
     "name": "stderr",
     "output_type": "stream",
     "text": [
      "ic| a: tensor([1., 1., 1., 1., 1.])\n"
     ]
    },
    {
     "data": {
      "text/plain": [
       "tensor([1., 1., 1., 1., 1.])"
      ]
     },
     "execution_count": 23,
     "metadata": {},
     "output_type": "execute_result"
    }
   ],
   "source": [
    "# Numpy\n",
    "# Converting a Torch Tensor to a NumPy array and vice versa is very easy\n",
    "a = torch.ones(5)\n",
    "ic(a)"
   ]
  },
  {
   "cell_type": "code",
   "execution_count": 24,
   "id": "f6ad0207",
   "metadata": {
    "ExecuteTime": {
     "end_time": "2024-04-09T09:41:22.310753Z",
     "start_time": "2024-04-09T09:41:22.257323Z"
    }
   },
   "outputs": [
    {
     "name": "stderr",
     "output_type": "stream",
     "text": [
      "ic| b: array([1., 1., 1., 1., 1.], dtype=float32)\n",
      "ic| type(b): <class 'numpy.ndarray'>\n"
     ]
    },
    {
     "data": {
      "text/plain": [
       "numpy.ndarray"
      ]
     },
     "execution_count": 24,
     "metadata": {},
     "output_type": "execute_result"
    }
   ],
   "source": [
    "# torch to numpy with .numpy()\n",
    "b = a.numpy()\n",
    "ic(b)\n",
    "ic(type(b))"
   ]
  },
  {
   "cell_type": "code",
   "execution_count": 25,
   "id": "2ba97658",
   "metadata": {
    "ExecuteTime": {
     "end_time": "2024-04-09T09:41:22.931300Z",
     "start_time": "2024-04-09T09:41:22.862300Z"
    }
   },
   "outputs": [
    {
     "name": "stderr",
     "output_type": "stream",
     "text": [
      "ic| a: tensor([2., 2., 2., 2., 2.])\n",
      "ic| b: array([2., 2., 2., 2., 2.], dtype=float32)\n"
     ]
    },
    {
     "data": {
      "text/plain": [
       "array([2., 2., 2., 2., 2.], dtype=float32)"
      ]
     },
     "execution_count": 25,
     "metadata": {},
     "output_type": "execute_result"
    }
   ],
   "source": [
    "# Carful: If the Tensor is on the CPU (not the GPU),\n",
    "# both objects will share the same memory location, so changing one\n",
    "# will also change the other\n",
    "a.add_(1)\n",
    "ic(a)\n",
    "ic(b)"
   ]
  },
  {
   "cell_type": "code",
   "execution_count": 26,
   "id": "0110c934",
   "metadata": {
    "ExecuteTime": {
     "end_time": "2024-04-09T09:41:23.400704Z",
     "start_time": "2024-04-09T09:41:23.382167Z"
    }
   },
   "outputs": [],
   "source": [
    "# numpy to torch with .from_numpy(x)\n",
    "import numpy as np"
   ]
  },
  {
   "cell_type": "code",
   "execution_count": 27,
   "id": "426ed6da",
   "metadata": {
    "ExecuteTime": {
     "end_time": "2024-04-09T09:41:23.719262Z",
     "start_time": "2024-04-09T09:41:23.663443Z"
    }
   },
   "outputs": [
    {
     "name": "stderr",
     "output_type": "stream",
     "text": [
      "ic| a: array([1., 1., 1., 1., 1.])\n",
      "ic| b: tensor([1., 1., 1., 1., 1.], dtype=torch.float64)\n"
     ]
    },
    {
     "data": {
      "text/plain": [
       "tensor([1., 1., 1., 1., 1.], dtype=torch.float64)"
      ]
     },
     "execution_count": 27,
     "metadata": {},
     "output_type": "execute_result"
    }
   ],
   "source": [
    "a = np.ones(5)\n",
    "b = torch.from_numpy(a)\n",
    "ic(a)\n",
    "ic(b)"
   ]
  },
  {
   "cell_type": "code",
   "execution_count": 28,
   "id": "737ea517",
   "metadata": {
    "ExecuteTime": {
     "end_time": "2024-04-09T09:41:24.006815Z",
     "start_time": "2024-04-09T09:41:23.925732Z"
    }
   },
   "outputs": [
    {
     "name": "stderr",
     "output_type": "stream",
     "text": [
      "ic| a: array([2., 2., 2., 2., 2.])\n",
      "ic| b: tensor([2., 2., 2., 2., 2.], dtype=torch.float64)\n"
     ]
    },
    {
     "data": {
      "text/plain": [
       "tensor([2., 2., 2., 2., 2.], dtype=torch.float64)"
      ]
     },
     "execution_count": 28,
     "metadata": {},
     "output_type": "execute_result"
    }
   ],
   "source": [
    "# again be careful when modifying\n",
    "a += 1\n",
    "ic(a)\n",
    "ic(b)"
   ]
  },
  {
   "cell_type": "code",
   "execution_count": 8,
   "id": "8159b7f0",
   "metadata": {},
   "outputs": [
    {
     "name": "stdout",
     "output_type": "stream",
     "text": [
      "tensor([[[1, 2],\n",
      "         [3, 4]],\n",
      "\n",
      "        [[5, 6],\n",
      "         [7, 8]]])\n",
      "3\n",
      "torch.Size([2, 2, 2])\n"
     ]
    }
   ],
   "source": [
    "import torch\n",
    " \n",
    "a = torch.tensor([[1, 2], [3, 4]])\n",
    "b = torch.tensor([[5, 6], [7, 8]])\n",
    " \n",
    "result = torch.stack([a, b], 0)\n",
    "print(result)\n",
    "print(result.dim())\n",
    "print(result.shape)\n",
    "\n",
    "\n"
   ]
  },
  {
   "cell_type": "code",
   "execution_count": 9,
   "id": "b8df7c0f",
   "metadata": {},
   "outputs": [
    {
     "name": "stdout",
     "output_type": "stream",
     "text": [
      "tensor([[[1, 2],\n",
      "         [5, 6]],\n",
      "\n",
      "        [[3, 4],\n",
      "         [7, 8]]])\n",
      "<built-in method dim of Tensor object at 0x000002333EA91720>\n",
      "torch.Size([2, 2, 2])\n"
     ]
    }
   ],
   "source": [
    "import torch\n",
    " \n",
    "a = torch.tensor([[1, 2], [3, 4]])\n",
    "b = torch.tensor([[5, 6], [7, 8]])\n",
    " \n",
    "result = torch.stack([a, b], 1)\n",
    "print(result)\n",
    "print(result.dim)\n",
    "print(result.shape)"
   ]
  },
  {
   "cell_type": "code",
   "execution_count": 2,
   "id": "26d9b442",
   "metadata": {},
   "outputs": [
    {
     "name": "stdout",
     "output_type": "stream",
     "text": [
      "tensor([[[1, 5],\n",
      "         [2, 6]],\n",
      "\n",
      "        [[3, 7],\n",
      "         [4, 8]]])\n"
     ]
    }
   ],
   "source": [
    "import torch\n",
    " \n",
    "a = torch.tensor([[1, 2], [3, 4]])\n",
    "b = torch.tensor([[5, 6], [7, 8]])\n",
    " \n",
    "result = torch.stack([a, b], 2)\n",
    "print(result)\n",
    "print(result.dim)"
   ]
  },
  {
   "cell_type": "code",
   "execution_count": 29,
   "id": "67f5936f",
   "metadata": {
    "ExecuteTime": {
     "end_time": "2024-04-09T09:41:24.417349Z",
     "start_time": "2024-04-09T09:41:24.230199Z"
    }
   },
   "outputs": [],
   "source": [
    "# by default all tensors are created on the CPU,\n",
    "# but you can also move them to the GPU (only if it's available )\n",
    "if torch.cuda.is_available():\n",
    "    device = torch.device(\"cuda\")  # a CUDA device object\n",
    "    y = torch.ones_like(x, device=device)  # directly create a tensor on GPU\n",
    "    x = x.to(device)  # or just use strings ``.to(\"cuda\")``\n",
    "    z = x + y\n",
    "    # z = z.numpy() # not possible because numpy cannot handle GPU tenors\n",
    "    # move to CPU again\n",
    "    z.to(\"cpu\")  # ``.to`` can also change dtype together!\n",
    "    # z = z.numpy()"
   ]
  },
  {
   "cell_type": "code",
   "execution_count": null,
   "id": "f465c415",
   "metadata": {},
   "outputs": [],
   "source": []
  },
  {
   "cell_type": "code",
   "execution_count": null,
   "id": "71b0ca19",
   "metadata": {},
   "outputs": [],
   "source": []
  }
 ],
 "metadata": {
  "hide_input": true,
  "jupytext": {
   "cell_metadata_filter": "-all",
   "main_language": "python",
   "notebook_metadata_filter": "-all"
  },
  "kernelspec": {
   "display_name": "Python 3 (ipykernel)",
   "language": "python",
   "name": "python3"
  },
  "language_info": {
   "codemirror_mode": {
    "name": "ipython",
    "version": 3
   },
   "file_extension": ".py",
   "mimetype": "text/x-python",
   "name": "python",
   "nbconvert_exporter": "python",
   "pygments_lexer": "ipython3",
   "version": "3.8.19"
  },
  "toc": {
   "base_numbering": 1,
   "nav_menu": {
    "height": "249px",
    "width": "160px"
   },
   "number_sections": true,
   "sideBar": true,
   "skip_h1_title": false,
   "title_cell": "Table of Contents",
   "title_sidebar": "Contents",
   "toc_cell": false,
   "toc_position": {},
   "toc_section_display": true,
   "toc_window_display": false
  },
  "varInspector": {
   "cols": {
    "lenName": 16,
    "lenType": 16,
    "lenVar": 40
   },
   "kernels_config": {
    "python": {
     "delete_cmd_postfix": "",
     "delete_cmd_prefix": "del ",
     "library": "var_list.py",
     "varRefreshCmd": "print(var_dic_list())"
    },
    "r": {
     "delete_cmd_postfix": ") ",
     "delete_cmd_prefix": "rm(",
     "library": "var_list.r",
     "varRefreshCmd": "cat(var_dic_list()) "
    }
   },
   "types_to_exclude": [
    "module",
    "function",
    "builtin_function_or_method",
    "instance",
    "_Feature"
   ],
   "window_display": false
  }
 },
 "nbformat": 4,
 "nbformat_minor": 5
}
