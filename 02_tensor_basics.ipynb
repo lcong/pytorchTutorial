{
 "cells": [
  {
   "cell_type": "code",
   "execution_count": null,
   "id": "43734451",
   "metadata": {},
   "outputs": [],
   "source": [
    "import torch\n",
    "from icecream import ic"
   ]
  },
  {
   "cell_type": "markdown",
   "id": "65193f5f",
   "metadata": {},
   "source": [
    "Everything in pytorch is based on Tensor operations.\n",
    "A tensor can have different dimensions\n",
    "so it can be 1d, 2d, or even 3d and higher"
   ]
  },
  {
   "cell_type": "markdown",
   "id": "0a5a92cf",
   "metadata": {},
   "source": [
    "scalar, vector, matrix, tensor"
   ]
  },
  {
   "cell_type": "code",
   "execution_count": null,
   "id": "68a5c1e3",
   "metadata": {},
   "outputs": [],
   "source": [
    "# torch.empty(size): uninitiallized\n",
    "x = torch.empty(1)  # scalar\n",
    "ic(x)\n",
    "x = torch.empty(3)  # vector, 1D\n",
    "ic(x)\n",
    "x = torch.empty(2, 3)  # matrix, 2D\n",
    "ic(x)\n",
    "x = torch.empty(2, 2, 3)  # tensor, 3 dimensions\n",
    "# x = torch.empty(2,2,2,3) # tensor, 4 dimensions\n",
    "ic(x)"
   ]
  },
  {
   "cell_type": "code",
   "execution_count": null,
   "id": "233d9fa1",
   "metadata": {},
   "outputs": [],
   "source": [
    "# torch.rand(size): random numbers [0, 1]\n",
    "x = torch.rand(5, 3)\n",
    "ic(x)"
   ]
  },
  {
   "cell_type": "code",
   "execution_count": null,
   "id": "ad43b728",
   "metadata": {},
   "outputs": [],
   "source": [
    "# torch.zeros(size), fill with 0\n",
    "# torch.ones(size), fill with 1\n",
    "x = torch.zeros(5, 3)\n",
    "ic(x)"
   ]
  },
  {
   "cell_type": "code",
   "execution_count": null,
   "id": "552e1371",
   "metadata": {},
   "outputs": [],
   "source": [
    "# check size\n",
    "ic(x.size())"
   ]
  },
  {
   "cell_type": "code",
   "execution_count": null,
   "id": "b68b7816",
   "metadata": {},
   "outputs": [],
   "source": [
    "# check data type\n",
    "ic(x.dtype)"
   ]
  },
  {
   "cell_type": "code",
   "execution_count": null,
   "id": "2ab8da8b",
   "metadata": {},
   "outputs": [],
   "source": [
    "# specify types, float32 default\n",
    "x = torch.zeros(5, 3, dtype=torch.float16)\n",
    "ic(x)"
   ]
  },
  {
   "cell_type": "code",
   "execution_count": null,
   "id": "a9c37400",
   "metadata": {},
   "outputs": [],
   "source": [
    "# check type\n",
    "ic(x.dtype)"
   ]
  },
  {
   "cell_type": "code",
   "execution_count": null,
   "id": "df33587b",
   "metadata": {},
   "outputs": [],
   "source": [
    "# construct from data\n",
    "x = torch.tensor([5.5, 3])\n",
    "ic(x.size())"
   ]
  },
  {
   "cell_type": "code",
   "execution_count": null,
   "id": "824b115f",
   "metadata": {},
   "outputs": [],
   "source": [
    "# requires_grad argument\n",
    "# This will tell pytorch that it will need to calculate the gradients for this tensor\n",
    "# later in your optimization steps\n",
    "# i.e. this is a variable in your model that you want to optimize\n",
    "x = torch.tensor([5.5, 3], requires_grad=True)"
   ]
  },
  {
   "cell_type": "code",
   "execution_count": null,
   "id": "bd699cd6",
   "metadata": {},
   "outputs": [],
   "source": [
    "# Operations\n",
    "y = torch.rand(2, 2)\n",
    "x = torch.rand(2, 2)"
   ]
  },
  {
   "cell_type": "code",
   "execution_count": null,
   "id": "fd61a270",
   "metadata": {},
   "outputs": [],
   "source": [
    "# elementwise addition\n",
    "z = x + y\n",
    "# torch.add(x,y)"
   ]
  },
  {
   "cell_type": "markdown",
   "id": "d37b51a6",
   "metadata": {},
   "source": [
    "in place addition, everythin with a trailing underscore is an inplace operation\n",
    "i.e. it will modify the variable\n",
    "y.add_(x)"
   ]
  },
  {
   "cell_type": "code",
   "execution_count": null,
   "id": "09306157",
   "metadata": {},
   "outputs": [],
   "source": [
    "# substraction\n",
    "z = x - y\n",
    "z = torch.sub(x, y)"
   ]
  },
  {
   "cell_type": "code",
   "execution_count": null,
   "id": "4f0878eb",
   "metadata": {},
   "outputs": [],
   "source": [
    "# multiplication\n",
    "z = x * y\n",
    "z = torch.mul(x, y)"
   ]
  },
  {
   "cell_type": "code",
   "execution_count": null,
   "id": "db4fab1b",
   "metadata": {},
   "outputs": [],
   "source": [
    "# division\n",
    "z = x / y\n",
    "z = torch.div(x, y)"
   ]
  },
  {
   "cell_type": "code",
   "execution_count": null,
   "id": "1dd5efb7",
   "metadata": {},
   "outputs": [],
   "source": [
    "# Slicing\n",
    "x = torch.rand(5, 3)\n",
    "ic(x)\n",
    "ic(x[:, 0])  # all rows, column 0\n",
    "ic(x[1, :])  # row 1, all columns\n",
    "ic(x[1, 1])  # element at 1, 1"
   ]
  },
  {
   "cell_type": "code",
   "execution_count": null,
   "id": "40a9e730",
   "metadata": {},
   "outputs": [],
   "source": [
    "# Get the actual value if only 1 element in your tensor\n",
    "ic(x[1, 1].item())"
   ]
  },
  {
   "cell_type": "code",
   "execution_count": null,
   "id": "61e6e0e9",
   "metadata": {},
   "outputs": [],
   "source": [
    "# Reshape with torch.view()\n",
    "x = torch.randn(4, 4)\n",
    "y = x.view(16)\n",
    "z = x.view(-1, 8)  # the size -1 is inferred from other dimensions\n",
    "# if -1 it pytorch will automatically determine the necessary size\n",
    "ic(x.size(), y.size(), z.size())"
   ]
  },
  {
   "cell_type": "code",
   "execution_count": null,
   "id": "148630d0",
   "metadata": {},
   "outputs": [],
   "source": [
    "# Numpy\n",
    "# Converting a Torch Tensor to a NumPy array and vice versa is very easy\n",
    "a = torch.ones(5)\n",
    "ic(a)"
   ]
  },
  {
   "cell_type": "code",
   "execution_count": null,
   "id": "f6ad0207",
   "metadata": {},
   "outputs": [],
   "source": [
    "# torch to numpy with .numpy()\n",
    "b = a.numpy()\n",
    "ic(b)\n",
    "ic(type(b))"
   ]
  },
  {
   "cell_type": "code",
   "execution_count": null,
   "id": "2ba97658",
   "metadata": {},
   "outputs": [],
   "source": [
    "# Carful: If the Tensor is on the CPU (not the GPU),\n",
    "# both objects will share the same memory location, so changing one\n",
    "# will also change the other\n",
    "a.add_(1)\n",
    "ic(a)\n",
    "ic(b)"
   ]
  },
  {
   "cell_type": "code",
   "execution_count": null,
   "id": "0110c934",
   "metadata": {},
   "outputs": [],
   "source": [
    "# numpy to torch with .from_numpy(x)\n",
    "import numpy as np"
   ]
  },
  {
   "cell_type": "code",
   "execution_count": null,
   "id": "426ed6da",
   "metadata": {},
   "outputs": [],
   "source": [
    "a = np.ones(5)\n",
    "b = torch.from_numpy(a)\n",
    "ic(a)\n",
    "ic(b)"
   ]
  },
  {
   "cell_type": "code",
   "execution_count": null,
   "id": "737ea517",
   "metadata": {},
   "outputs": [],
   "source": [
    "# again be careful when modifying\n",
    "a += 1\n",
    "ic(a)\n",
    "ic(b)"
   ]
  },
  {
   "cell_type": "code",
   "execution_count": null,
   "id": "67f5936f",
   "metadata": {},
   "outputs": [],
   "source": [
    "# by default all tensors are created on the CPU,\n",
    "# but you can also move them to the GPU (only if it's available )\n",
    "if torch.cuda.is_available():\n",
    "    device = torch.device(\"cuda\")  # a CUDA device object\n",
    "    y = torch.ones_like(x, device=device)  # directly create a tensor on GPU\n",
    "    x = x.to(device)  # or just use strings ``.to(\"cuda\")``\n",
    "    z = x + y\n",
    "    # z = z.numpy() # not possible because numpy cannot handle GPU tenors\n",
    "    # move to CPU again\n",
    "    z.to(\"cpu\")  # ``.to`` can also change dtype together!\n",
    "    # z = z.numpy()"
   ]
  }
 ],
 "metadata": {
  "jupytext": {
   "cell_metadata_filter": "-all",
   "main_language": "python",
   "notebook_metadata_filter": "-all"
  }
 },
 "nbformat": 4,
 "nbformat_minor": 5
}
