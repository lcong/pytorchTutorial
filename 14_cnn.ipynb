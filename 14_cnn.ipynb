{
 "cells": [
  {
   "cell_type": "code",
   "execution_count": 1,
   "id": "2965ec3a",
   "metadata": {
    "ExecuteTime": {
     "end_time": "2024-04-10T02:45:46.900128Z",
     "start_time": "2024-04-10T02:45:16.040935Z"
    }
   },
   "outputs": [],
   "source": [
    "import torch\n",
    "import torch.nn as nn\n",
    "import torch.nn.functional as F\n",
    "import torchvision\n",
    "import torchvision.transforms as transforms\n",
    "import matplotlib.pyplot as plt\n",
    "import numpy as np"
   ]
  },
  {
   "cell_type": "code",
   "execution_count": 2,
   "id": "7bf60dba",
   "metadata": {
    "ExecuteTime": {
     "end_time": "2024-04-10T02:45:47.264604Z",
     "start_time": "2024-04-10T02:45:46.909616Z"
    }
   },
   "outputs": [],
   "source": [
    "# Device configuration\n",
    "device = torch.device('cuda' if torch.cuda.is_available() else 'cpu')"
   ]
  },
  {
   "cell_type": "code",
   "execution_count": 3,
   "id": "50cb473c",
   "metadata": {
    "ExecuteTime": {
     "end_time": "2024-04-10T02:45:47.295725Z",
     "start_time": "2024-04-10T02:45:47.270731Z"
    }
   },
   "outputs": [],
   "source": [
    "# Hyper-parameters \n",
    "num_epochs = 5\n",
    "batch_size = 4\n",
    "learning_rate = 0.001"
   ]
  },
  {
   "cell_type": "code",
   "execution_count": 4,
   "id": "5b3d4491",
   "metadata": {
    "ExecuteTime": {
     "end_time": "2024-04-10T02:45:47.326445Z",
     "start_time": "2024-04-10T02:45:47.301721Z"
    }
   },
   "outputs": [],
   "source": [
    "# dataset has PILImage images of range [0, 1]. \n",
    "# We transform them to Tensors of normalized range [-1, 1]\n",
    "transform = transforms.Compose(\n",
    "    [transforms.ToTensor(),\n",
    "     transforms.Normalize((0.5, 0.5, 0.5), (0.5, 0.5, 0.5))])"
   ]
  },
  {
   "cell_type": "code",
   "execution_count": 5,
   "id": "06f1df7c",
   "metadata": {
    "ExecuteTime": {
     "end_time": "2024-04-10T02:45:49.688081Z",
     "start_time": "2024-04-10T02:45:47.331661Z"
    }
   },
   "outputs": [
    {
     "name": "stdout",
     "output_type": "stream",
     "text": [
      "Files already downloaded and verified\n"
     ]
    }
   ],
   "source": [
    "# CIFAR10: 60000 32x32 color images in 10 classes, with 6000 images per class\n",
    "train_dataset = torchvision.datasets.CIFAR10(root='./data', train=True,\n",
    "                                        download=True, transform=transform)"
   ]
  },
  {
   "cell_type": "code",
   "execution_count": 6,
   "id": "19b11361",
   "metadata": {
    "ExecuteTime": {
     "end_time": "2024-04-10T02:45:51.577153Z",
     "start_time": "2024-04-10T02:45:49.701776Z"
    }
   },
   "outputs": [
    {
     "name": "stdout",
     "output_type": "stream",
     "text": [
      "Files already downloaded and verified\n"
     ]
    }
   ],
   "source": [
    "test_dataset = torchvision.datasets.CIFAR10(root='./data', train=False,\n",
    "                                       download=True, transform=transform)"
   ]
  },
  {
   "cell_type": "code",
   "execution_count": 7,
   "id": "adb6154d",
   "metadata": {
    "ExecuteTime": {
     "end_time": "2024-04-10T02:45:51.607536Z",
     "start_time": "2024-04-10T02:45:51.582531Z"
    }
   },
   "outputs": [],
   "source": [
    "train_loader = torch.utils.data.DataLoader(train_dataset, batch_size=batch_size,\n",
    "                                          shuffle=True)"
   ]
  },
  {
   "cell_type": "code",
   "execution_count": 8,
   "id": "d0cbdb32",
   "metadata": {
    "ExecuteTime": {
     "end_time": "2024-04-10T02:45:51.637819Z",
     "start_time": "2024-04-10T02:45:51.613833Z"
    }
   },
   "outputs": [],
   "source": [
    "test_loader = torch.utils.data.DataLoader(test_dataset, batch_size=batch_size,\n",
    "                                         shuffle=False)"
   ]
  },
  {
   "cell_type": "code",
   "execution_count": 9,
   "id": "f3c1eca8",
   "metadata": {
    "ExecuteTime": {
     "end_time": "2024-04-10T02:45:51.667665Z",
     "start_time": "2024-04-10T02:45:51.644931Z"
    },
    "lines_to_next_cell": 1
   },
   "outputs": [],
   "source": [
    "classes = ('plane', 'car', 'bird', 'cat',\n",
    "           'deer', 'dog', 'frog', 'horse', 'ship', 'truck')"
   ]
  },
  {
   "cell_type": "code",
   "execution_count": 10,
   "id": "b7ad4e71",
   "metadata": {
    "ExecuteTime": {
     "end_time": "2024-04-10T02:45:51.698105Z",
     "start_time": "2024-04-10T02:45:51.673730Z"
    }
   },
   "outputs": [],
   "source": [
    "def imshow(img):\n",
    "    img = img / 2 + 0.5  # unnormalize\n",
    "    npimg = img.numpy()\n",
    "    plt.imshow(np.transpose(npimg, (1, 2, 0)))\n",
    "    plt.show()"
   ]
  },
  {
   "cell_type": "code",
   "execution_count": 11,
   "id": "c21c9b88",
   "metadata": {
    "ExecuteTime": {
     "end_time": "2024-04-10T02:45:51.803909Z",
     "start_time": "2024-04-10T02:45:51.704118Z"
    }
   },
   "outputs": [],
   "source": [
    "# get some random training images\n",
    "dataiter = iter(train_loader)\n",
    "images, labels = next(dataiter)"
   ]
  },
  {
   "cell_type": "code",
   "execution_count": 12,
   "id": "0b1daae8",
   "metadata": {
    "ExecuteTime": {
     "end_time": "2024-04-10T02:45:52.546723Z",
     "start_time": "2024-04-10T02:45:51.811054Z"
    },
    "lines_to_next_cell": 1
   },
   "outputs": [
    {
     "data": {
      "image/png": "[encoded data removed]",
      "text/plain": [
       "<Figure size 640x480 with 1 Axes>"
      ]
     },
     "metadata": {},
     "output_type": "display_data"
    }
   ],
   "source": [
    "# show images\n",
    "imshow(torchvision.utils.make_grid(images))"
   ]
  },
  {
   "cell_type": "code",
   "execution_count": 13,
   "id": "51f85fa4",
   "metadata": {
    "ExecuteTime": {
     "end_time": "2024-04-10T02:45:52.577370Z",
     "start_time": "2024-04-10T02:45:52.551725Z"
    }
   },
   "outputs": [],
   "source": [
    "class ConvNet(nn.Module):\n",
    "    def __init__(self):\n",
    "        super(ConvNet, self).__init__()\n",
    "        self.conv1 = nn.Conv2d(3, 6, 5)\n",
    "        self.pool = nn.MaxPool2d(2, 2)\n",
    "        self.conv2 = nn.Conv2d(6, 16, 5)\n",
    "        self.fc1 = nn.Linear(16 * 5 * 5, 120)\n",
    "        self.fc2 = nn.Linear(120, 84)\n",
    "        self.fc3 = nn.Linear(84, 10)\n",
    "\n",
    "    def forward(self, x):\n",
    "        # -> n, 3, 32, 32\n",
    "        x = self.pool(F.relu(self.conv1(x)))  # -> n, 6, 14, 14\n",
    "        x = self.pool(F.relu(self.conv2(x)))  # -> n, 16, 5, 5\n",
    "        x = x.view(-1, 16 * 5 * 5)            # -> n, 400\n",
    "        x = F.relu(self.fc1(x))               # -> n, 120\n",
    "        x = F.relu(self.fc2(x))               # -> n, 84\n",
    "        x = self.fc3(x)                       # -> n, 10\n",
    "        return x"
   ]
  },
  {
   "cell_type": "code",
   "execution_count": 14,
   "id": "9a2415e3",
   "metadata": {
    "ExecuteTime": {
     "end_time": "2024-04-10T02:45:52.959067Z",
     "start_time": "2024-04-10T02:45:52.583367Z"
    }
   },
   "outputs": [],
   "source": [
    "model = ConvNet().to(device)"
   ]
  },
  {
   "cell_type": "code",
   "execution_count": 15,
   "id": "33cb9520",
   "metadata": {
    "ExecuteTime": {
     "end_time": "2024-04-10T02:45:52.988853Z",
     "start_time": "2024-04-10T02:45:52.964983Z"
    }
   },
   "outputs": [],
   "source": [
    "criterion = nn.CrossEntropyLoss()\n",
    "optimizer = torch.optim.SGD(model.parameters(), lr=learning_rate)"
   ]
  },
  {
   "cell_type": "code",
   "execution_count": 16,
   "id": "662c1b84",
   "metadata": {
    "ExecuteTime": {
     "end_time": "2024-04-10T02:53:13.759417Z",
     "start_time": "2024-04-10T02:45:52.996015Z"
    }
   },
   "outputs": [
    {
     "name": "stdout",
     "output_type": "stream",
     "text": [
      "Epoch [1/5], Step [2000/12500], Loss: 2.3004\n",
      "Epoch [1/5], Step [4000/12500], Loss: 2.3143\n",
      "Epoch [1/5], Step [6000/12500], Loss: 2.2807\n",
      "Epoch [1/5], Step [8000/12500], Loss: 2.2644\n",
      "Epoch [1/5], Step [10000/12500], Loss: 2.2254\n",
      "Epoch [1/5], Step [12000/12500], Loss: 2.0003\n",
      "Epoch [2/5], Step [2000/12500], Loss: 1.9531\n",
      "Epoch [2/5], Step [4000/12500], Loss: 1.9697\n",
      "Epoch [2/5], Step [6000/12500], Loss: 2.1628\n",
      "Epoch [2/5], Step [8000/12500], Loss: 1.6172\n",
      "Epoch [2/5], Step [10000/12500], Loss: 1.4607\n",
      "Epoch [2/5], Step [12000/12500], Loss: 2.2397\n",
      "Epoch [3/5], Step [2000/12500], Loss: 1.3836\n",
      "Epoch [3/5], Step [4000/12500], Loss: 2.0680\n",
      "Epoch [3/5], Step [6000/12500], Loss: 1.0738\n",
      "Epoch [3/5], Step [8000/12500], Loss: 2.5170\n",
      "Epoch [3/5], Step [10000/12500], Loss: 1.3002\n",
      "Epoch [3/5], Step [12000/12500], Loss: 2.5082\n",
      "Epoch [4/5], Step [2000/12500], Loss: 2.5913\n",
      "Epoch [4/5], Step [4000/12500], Loss: 1.2090\n",
      "Epoch [4/5], Step [6000/12500], Loss: 1.1606\n",
      "Epoch [4/5], Step [8000/12500], Loss: 1.4590\n",
      "Epoch [4/5], Step [10000/12500], Loss: 1.2440\n",
      "Epoch [4/5], Step [12000/12500], Loss: 1.1503\n",
      "Epoch [5/5], Step [2000/12500], Loss: 0.8507\n",
      "Epoch [5/5], Step [4000/12500], Loss: 1.3313\n",
      "Epoch [5/5], Step [6000/12500], Loss: 1.6140\n",
      "Epoch [5/5], Step [8000/12500], Loss: 1.4415\n",
      "Epoch [5/5], Step [10000/12500], Loss: 2.0294\n",
      "Epoch [5/5], Step [12000/12500], Loss: 2.3703\n"
     ]
    }
   ],
   "source": [
    "n_total_steps = len(train_loader)\n",
    "for epoch in range(num_epochs):\n",
    "    for i, (images, labels) in enumerate(train_loader):\n",
    "        # origin shape: [4, 3, 32, 32] = 4, 3, 1024\n",
    "        # input_layer: 3 input channels, 6 output channels, 5 kernel size\n",
    "        images = images.to(device)\n",
    "        labels = labels.to(device)\n",
    "\n",
    "        # Forward pass\n",
    "        outputs = model(images)\n",
    "        loss = criterion(outputs, labels)\n",
    "\n",
    "        # Backward and optimize\n",
    "        optimizer.zero_grad()\n",
    "        loss.backward()\n",
    "        optimizer.step()\n",
    "\n",
    "        if (i+1) % 2000 == 0:\n",
    "            print (f'Epoch [{epoch+1}/{num_epochs}], Step [{i+1}/{n_total_steps}], Loss: {loss.item():.4f}')"
   ]
  },
  {
   "cell_type": "code",
   "execution_count": 17,
   "id": "309827c7",
   "metadata": {
    "ExecuteTime": {
     "end_time": "2024-04-10T02:53:13.789766Z",
     "start_time": "2024-04-10T02:53:13.765099Z"
    }
   },
   "outputs": [
    {
     "name": "stdout",
     "output_type": "stream",
     "text": [
      "Finished Training\n"
     ]
    }
   ],
   "source": [
    "print('Finished Training')\n",
    "PATH = './cnn.pth'\n",
    "torch.save(model.state_dict(), PATH)"
   ]
  },
  {
   "cell_type": "code",
   "execution_count": 18,
   "id": "e7cbf15a",
   "metadata": {
    "ExecuteTime": {
     "end_time": "2024-04-10T02:53:21.997833Z",
     "start_time": "2024-04-10T02:53:13.795923Z"
    },
    "lines_to_next_cell": 2
   },
   "outputs": [
    {
     "name": "stdout",
     "output_type": "stream",
     "text": [
      "Accuracy of the network: 48.25 %\n",
      "Accuracy of plane: 53.2 %\n",
      "Accuracy of car: 62.2 %\n",
      "Accuracy of bird: 23.3 %\n",
      "Accuracy of cat: 20.7 %\n",
      "Accuracy of deer: 34.7 %\n",
      "Accuracy of dog: 47.9 %\n",
      "Accuracy of frog: 73.5 %\n",
      "Accuracy of horse: 53.4 %\n",
      "Accuracy of ship: 57.2 %\n",
      "Accuracy of truck: 56.4 %\n"
     ]
    }
   ],
   "source": [
    "with torch.no_grad():\n",
    "    n_correct = 0\n",
    "    n_samples = 0\n",
    "    n_class_correct = [0 for i in range(10)]\n",
    "    n_class_samples = [0 for i in range(10)]\n",
    "    for images, labels in test_loader:\n",
    "        images = images.to(device)\n",
    "        labels = labels.to(device)\n",
    "        outputs = model(images)\n",
    "        # max returns (value ,index)\n",
    "        _, predicted = torch.max(outputs, 1)\n",
    "        n_samples += labels.size(0)\n",
    "        n_correct += (predicted == labels).sum().item()\n",
    "        \n",
    "        for i in range(batch_size):\n",
    "            label = labels[i]\n",
    "            pred = predicted[i]\n",
    "            if (label == pred):\n",
    "                n_class_correct[label] += 1\n",
    "            n_class_samples[label] += 1\n",
    "\n",
    "    acc = 100.0 * n_correct / n_samples\n",
    "    print(f'Accuracy of the network: {acc} %')\n",
    "\n",
    "    for i in range(10):\n",
    "        acc = 100.0 * n_class_correct[i] / n_class_samples[i]\n",
    "        print(f'Accuracy of {classes[i]}: {acc} %')"
   ]
  }
 ],
 "metadata": {
  "hide_input": false,
  "jupytext": {
   "cell_metadata_filter": "-all",
   "main_language": "python",
   "notebook_metadata_filter": "-all"
  },
  "kernelspec": {
   "display_name": "Python 3 (ipykernel)",
   "language": "python",
   "name": "python3"
  },
  "language_info": {
   "codemirror_mode": {
    "name": "ipython",
    "version": 3
   },
   "file_extension": ".py",
   "mimetype": "text/x-python",
   "name": "python",
   "nbconvert_exporter": "python",
   "pygments_lexer": "ipython3",
   "version": "3.8.19"
  },
  "toc": {
   "base_numbering": 1,
   "nav_menu": {},
   "number_sections": true,
   "sideBar": true,
   "skip_h1_title": false,
   "title_cell": "Table of Contents",
   "title_sidebar": "Contents",
   "toc_cell": false,
   "toc_position": {},
   "toc_section_display": true,
   "toc_window_display": false
  },
  "varInspector": {
   "cols": {
    "lenName": 16,
    "lenType": 16,
    "lenVar": 40
   },
   "kernels_config": {
    "python": {
     "delete_cmd_postfix": "",
     "delete_cmd_prefix": "del ",
     "library": "var_list.py",
     "varRefreshCmd": "print(var_dic_list())"
    },
    "r": {
     "delete_cmd_postfix": ") ",
     "delete_cmd_prefix": "rm(",
     "library": "var_list.r",
     "varRefreshCmd": "cat(var_dic_list()) "
    }
   },
   "types_to_exclude": [
    "module",
    "function",
    "builtin_function_or_method",
    "instance",
    "_Feature"
   ],
   "window_display": false
  }
 },
 "nbformat": 4,
 "nbformat_minor": 5
}
