{
 "cells": [
  {
   "cell_type": "code",
   "execution_count": null,
   "id": "127187cb",
   "metadata": {},
   "outputs": [],
   "source": [
    "import numpy as np"
   ]
  },
  {
   "cell_type": "markdown",
   "id": "6ddec8c7",
   "metadata": {},
   "source": [
    "Compute every step manually"
   ]
  },
  {
   "cell_type": "markdown",
   "id": "c40dbf64",
   "metadata": {},
   "source": [
    "Linear regression\n",
    "f = w * x"
   ]
  },
  {
   "cell_type": "code",
   "execution_count": null,
   "id": "eaf28c1d",
   "metadata": {},
   "outputs": [],
   "source": [
    "# here : f = 2 * x\n",
    "X = np.array([1, 2, 3, 4], dtype=np.float32)\n",
    "Y = np.array([2, 4, 6, 8], dtype=np.float32)"
   ]
  },
  {
   "cell_type": "code",
   "execution_count": null,
   "id": "4ac1468e",
   "metadata": {},
   "outputs": [],
   "source": [
    "w = 0.0"
   ]
  },
  {
   "cell_type": "code",
   "execution_count": null,
   "id": "524a15d0",
   "metadata": {},
   "outputs": [],
   "source": [
    "# model output\n",
    "def forward(x):\n",
    "    return w * x"
   ]
  },
  {
   "cell_type": "code",
   "execution_count": null,
   "id": "14b6f056",
   "metadata": {},
   "outputs": [],
   "source": [
    "# loss = MSE\n",
    "def loss(y, y_pred):\n",
    "    return ((y_pred - y) ** 2).mean()"
   ]
  },
  {
   "cell_type": "code",
   "execution_count": null,
   "id": "95847f16",
   "metadata": {},
   "outputs": [],
   "source": [
    "# J = MSE = 1/N * (w*x - y)**2\n",
    "# dJ/dw = 1/N * 2x(w*x - y)\n",
    "def gradient(x, y, y_pred):\n",
    "    return np.mean(2 * x * (y_pred - y))"
   ]
  },
  {
   "cell_type": "code",
   "execution_count": null,
   "id": "3b6721d6",
   "metadata": {},
   "outputs": [],
   "source": [
    "print(f\"Prediction before training: f(5) = {forward(5):.3f}\")"
   ]
  },
  {
   "cell_type": "code",
   "execution_count": null,
   "id": "033762a6",
   "metadata": {},
   "outputs": [],
   "source": [
    "# Training\n",
    "learning_rate = 0.01\n",
    "n_iters = 20"
   ]
  },
  {
   "cell_type": "code",
   "execution_count": null,
   "id": "61b1867a",
   "metadata": {},
   "outputs": [],
   "source": [
    "for epoch in range(n_iters):\n",
    "    # predict = forward pass\n",
    "    y_pred = forward(X)\n",
    "\n",
    "    # loss\n",
    "    l = loss(Y, y_pred)\n",
    "\n",
    "    # calculate gradients\n",
    "    dw = gradient(X, Y, y_pred)\n",
    "\n",
    "    # update weights\n",
    "    w -= learning_rate * dw\n",
    "\n",
    "    if epoch % 2 == 0:\n",
    "        print(f\"epoch {epoch+1}: w = {w:.3f}, loss = {l:.8f}\")"
   ]
  },
  {
   "cell_type": "code",
   "execution_count": null,
   "id": "52161c82",
   "metadata": {},
   "outputs": [],
   "source": [
    "print(f\"Prediction after training: f(5) = {forward(5):.3f}\")"
   ]
  }
 ],
 "metadata": {
  "jupytext": {
   "cell_metadata_filter": "-all",
   "main_language": "python",
   "notebook_metadata_filter": "-all"
  }
 },
 "nbformat": 4,
 "nbformat_minor": 5
}
