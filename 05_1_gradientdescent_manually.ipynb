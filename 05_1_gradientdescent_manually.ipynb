{
 "cells": [
  {
   "cell_type": "code",
   "execution_count": 1,
   "id": "127187cb",
   "metadata": {
    "ExecuteTime": {
     "end_time": "2024-04-08T14:21:30.526657Z",
     "start_time": "2024-04-08T14:21:30.447125Z"
    }
   },
   "outputs": [],
   "source": [
    "import numpy as np\n",
    "import icecream as ic"
   ]
  },
  {
   "cell_type": "markdown",
   "id": "6ddec8c7",
   "metadata": {},
   "source": [
    "Compute every step manually"
   ]
  },
  {
   "cell_type": "markdown",
   "id": "c40dbf64",
   "metadata": {},
   "source": [
    "Linear regression\n",
    "f = w * x"
   ]
  },
  {
   "cell_type": "code",
   "execution_count": 15,
   "id": "eaf28c1d",
   "metadata": {
    "ExecuteTime": {
     "end_time": "2024-04-08T14:24:41.489638Z",
     "start_time": "2024-04-08T14:24:41.461152Z"
    }
   },
   "outputs": [
    {
     "ename": "TypeError",
     "evalue": "'module' object is not callable",
     "output_type": "error",
     "traceback": [
      "\u001b[1;31m---------------------------------------------------------------------------\u001b[0m",
      "\u001b[1;31mTypeError\u001b[0m                                 Traceback (most recent call last)",
      "Cell \u001b[1;32mIn[15], line 4\u001b[0m\n\u001b[0;32m      2\u001b[0m X \u001b[38;5;241m=\u001b[39m np\u001b[38;5;241m.\u001b[39marray([\u001b[38;5;241m1\u001b[39m, \u001b[38;5;241m2\u001b[39m, \u001b[38;5;241m3\u001b[39m, \u001b[38;5;241m4\u001b[39m], dtype\u001b[38;5;241m=\u001b[39mnp\u001b[38;5;241m.\u001b[39mfloat32)\n\u001b[0;32m      3\u001b[0m Y \u001b[38;5;241m=\u001b[39m np\u001b[38;5;241m.\u001b[39marray([\u001b[38;5;241m2\u001b[39m, \u001b[38;5;241m4\u001b[39m, \u001b[38;5;241m6\u001b[39m, \u001b[38;5;241m8\u001b[39m], dtype\u001b[38;5;241m=\u001b[39mnp\u001b[38;5;241m.\u001b[39mfloat32)\n\u001b[1;32m----> 4\u001b[0m \u001b[43mic\u001b[49m\u001b[43m(\u001b[49m\u001b[43mX\u001b[49m\u001b[43m)\u001b[49m\n\u001b[0;32m      5\u001b[0m ic(Y)\n",
      "\u001b[1;31mTypeError\u001b[0m: 'module' object is not callable"
     ]
    }
   ],
   "source": [
    "# here : f = 2 * x\n",
    "X = np.array([1, 2, 3, 4], dtype=np.float32)\n",
    "Y = np.array([2, 4, 6, 8], dtype=np.float32)\n",
    "ic(X)\n",
    "ic(Y)"
   ]
  },
  {
   "cell_type": "code",
   "execution_count": 3,
   "id": "4ac1468e",
   "metadata": {
    "ExecuteTime": {
     "end_time": "2024-04-08T14:21:34.605960Z",
     "start_time": "2024-04-08T14:21:34.589965Z"
    }
   },
   "outputs": [],
   "source": [
    "w = 0.0"
   ]
  },
  {
   "cell_type": "code",
   "execution_count": 4,
   "id": "524a15d0",
   "metadata": {
    "ExecuteTime": {
     "end_time": "2024-04-08T14:21:35.911319Z",
     "start_time": "2024-04-08T14:21:35.899111Z"
    }
   },
   "outputs": [],
   "source": [
    "# model output\n",
    "def forward(x):\n",
    "    return w * x"
   ]
  },
  {
   "cell_type": "code",
   "execution_count": 5,
   "id": "14b6f056",
   "metadata": {
    "ExecuteTime": {
     "end_time": "2024-04-08T14:21:36.791977Z",
     "start_time": "2024-04-08T14:21:36.778711Z"
    }
   },
   "outputs": [],
   "source": [
    "# loss = MSE\n",
    "def loss(y, y_pred):\n",
    "    return ((y_pred - y) ** 2).mean()"
   ]
  },
  {
   "cell_type": "code",
   "execution_count": 6,
   "id": "95847f16",
   "metadata": {
    "ExecuteTime": {
     "end_time": "2024-04-08T14:21:37.397776Z",
     "start_time": "2024-04-08T14:21:37.383710Z"
    }
   },
   "outputs": [],
   "source": [
    "# J = MSE = 1/N * (w*x - y)**2\n",
    "# dJ/dw = 1/N * 2x(w*x - y)\n",
    "def gradient(x, y, y_pred):\n",
    "    return np.mean(2 * x * (y_pred - y))"
   ]
  },
  {
   "cell_type": "code",
   "execution_count": 7,
   "id": "3b6721d6",
   "metadata": {
    "ExecuteTime": {
     "end_time": "2024-04-08T14:21:37.915243Z",
     "start_time": "2024-04-08T14:21:37.906110Z"
    }
   },
   "outputs": [
    {
     "name": "stdout",
     "output_type": "stream",
     "text": [
      "Prediction before training: f(5) = 0.000\n"
     ]
    }
   ],
   "source": [
    "print(f\"Prediction before training: f(5) = {forward(5):.3f}\")"
   ]
  },
  {
   "cell_type": "code",
   "execution_count": 8,
   "id": "033762a6",
   "metadata": {
    "ExecuteTime": {
     "end_time": "2024-04-08T14:21:38.567549Z",
     "start_time": "2024-04-08T14:21:38.552527Z"
    }
   },
   "outputs": [],
   "source": [
    "# Training\n",
    "learning_rate = 0.01\n",
    "n_iters = 20"
   ]
  },
  {
   "cell_type": "code",
   "execution_count": 11,
   "id": "61b1867a",
   "metadata": {
    "ExecuteTime": {
     "end_time": "2024-04-08T14:23:25.585108Z",
     "start_time": "2024-04-08T14:23:25.573126Z"
    }
   },
   "outputs": [
    {
     "name": "stdout",
     "output_type": "stream",
     "text": [
      "epoch 1: w = 0.300, loss = 30.00000000\n",
      "epoch 3: w = 0.772, loss = 15.66018677\n",
      "epoch 5: w = 1.113, loss = 8.17471600\n",
      "epoch 7: w = 1.359, loss = 4.26725292\n",
      "epoch 9: w = 1.537, loss = 2.22753215\n",
      "epoch 11: w = 1.665, loss = 1.16278565\n",
      "epoch 13: w = 1.758, loss = 0.60698175\n",
      "epoch 15: w = 1.825, loss = 0.31684822\n",
      "epoch 17: w = 1.874, loss = 0.16539653\n",
      "epoch 19: w = 1.909, loss = 0.08633806\n"
     ]
    }
   ],
   "source": [
    "for epoch in range(n_iters):\n",
    "    # predict = forward pass\n",
    "    y_pred = forward(X)\n",
    "\n",
    "    # loss\n",
    "    l = loss(Y, y_pred)\n",
    "\n",
    "    # calculate gradients\n",
    "    dw = gradient(X, Y, y_pred)\n",
    "\n",
    "    # update weights\n",
    "    w -= learning_rate * dw\n",
    "\n",
    "    if epoch % 2 == 0:\n",
    "        print(f\"epoch {epoch+1}: w = {w:.3f}, loss = {l:.8f}\")"
   ]
  },
  {
   "cell_type": "code",
   "execution_count": 14,
   "id": "52161c82",
   "metadata": {
    "ExecuteTime": {
     "end_time": "2024-04-08T14:24:01.463111Z",
     "start_time": "2024-04-08T14:24:01.447966Z"
    }
   },
   "outputs": [
    {
     "name": "stdout",
     "output_type": "stream",
     "text": [
      "Prediction after training: f(5) = 9.612\n"
     ]
    }
   ],
   "source": [
    "print(f\"Prediction after training: f(5) = {forward(5):.3f}\")"
   ]
  },
  {
   "cell_type": "code",
   "execution_count": null,
   "id": "3e892cda",
   "metadata": {},
   "outputs": [],
   "source": []
  }
 ],
 "metadata": {
  "jupytext": {
   "cell_metadata_filter": "-all",
   "main_language": "python",
   "notebook_metadata_filter": "-all"
  },
  "kernelspec": {
   "display_name": "Python 3 (ipykernel)",
   "language": "python",
   "name": "python3"
  },
  "language_info": {
   "codemirror_mode": {
    "name": "ipython",
    "version": 3
   },
   "file_extension": ".py",
   "mimetype": "text/x-python",
   "name": "python",
   "nbconvert_exporter": "python",
   "pygments_lexer": "ipython3",
   "version": "3.8.18"
  },
  "toc": {
   "base_numbering": 1,
   "nav_menu": {},
   "number_sections": true,
   "sideBar": true,
   "skip_h1_title": false,
   "title_cell": "Table of Contents",
   "title_sidebar": "Contents",
   "toc_cell": false,
   "toc_position": {},
   "toc_section_display": true,
   "toc_window_display": false
  },
  "varInspector": {
   "cols": {
    "lenName": 16,
    "lenType": 16,
    "lenVar": 40
   },
   "kernels_config": {
    "python": {
     "delete_cmd_postfix": "",
     "delete_cmd_prefix": "del ",
     "library": "var_list.py",
     "varRefreshCmd": "print(var_dic_list())"
    },
    "r": {
     "delete_cmd_postfix": ") ",
     "delete_cmd_prefix": "rm(",
     "library": "var_list.r",
     "varRefreshCmd": "cat(var_dic_list()) "
    }
   },
   "types_to_exclude": [
    "module",
    "function",
    "builtin_function_or_method",
    "instance",
    "_Feature"
   ],
   "window_display": false
  }
 },
 "nbformat": 4,
 "nbformat_minor": 5
}
