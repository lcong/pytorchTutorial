{
 "cells": [
  {
   "cell_type": "code",
   "execution_count": 1,
   "id": "7f71dffd",
   "metadata": {
    "ExecuteTime": {
     "end_time": "2024-04-09T06:18:37.877012Z",
     "start_time": "2024-04-09T06:18:37.868022Z"
    }
   },
   "outputs": [],
   "source": [
    "import torch"
   ]
  },
  {
   "cell_type": "code",
   "execution_count": 13,
   "id": "16379c18",
   "metadata": {
    "ExecuteTime": {
     "end_time": "2024-04-09T06:18:38.560241Z",
     "start_time": "2024-04-09T06:18:38.541045Z"
    }
   },
   "outputs": [],
   "source": [
    "x = torch.tensor(1.0)\n",
    "y = torch.tensor(2.0)"
   ]
  },
  {
   "cell_type": "code",
   "execution_count": 14,
   "id": "6e3cf8af",
   "metadata": {
    "ExecuteTime": {
     "end_time": "2024-04-09T06:18:39.119977Z",
     "start_time": "2024-04-09T06:18:39.114985Z"
    }
   },
   "outputs": [],
   "source": [
    "# This is the parameter we want to optimize -> requires_grad=True\n",
    "w = torch.tensor(1.0, requires_grad=True)"
   ]
  },
  {
   "cell_type": "code",
   "execution_count": 15,
   "id": "c3dff59d",
   "metadata": {
    "ExecuteTime": {
     "end_time": "2024-04-09T06:18:39.830165Z",
     "start_time": "2024-04-09T06:18:39.773539Z"
    }
   },
   "outputs": [
    {
     "name": "stdout",
     "output_type": "stream",
     "text": [
      "tensor(1., grad_fn=<PowBackward0>)\n"
     ]
    }
   ],
   "source": [
    "# forward pass to compute loss\n",
    "y_predicted = w * x\n",
    "loss = (y_predicted - y)**2\n",
    "print(loss)"
   ]
  },
  {
   "cell_type": "code",
   "execution_count": 16,
   "id": "83cc1ca4",
   "metadata": {
    "ExecuteTime": {
     "end_time": "2024-04-09T06:18:41.023103Z",
     "start_time": "2024-04-09T06:18:40.867923Z"
    }
   },
   "outputs": [
    {
     "name": "stdout",
     "output_type": "stream",
     "text": [
      "tensor(-2.)\n"
     ]
    }
   ],
   "source": [
    "# backward pass to compute gradient dLoss/dw\n",
    "loss.backward()\n",
    "print(w.grad)"
   ]
  },
  {
   "cell_type": "markdown",
   "id": "7a1ae83b",
   "metadata": {},
   "source": [
    "update weights\n",
    "next forward and backward pass..."
   ]
  },
  {
   "cell_type": "code",
   "execution_count": 17,
   "id": "c1109d9c",
   "metadata": {
    "ExecuteTime": {
     "end_time": "2024-04-09T06:18:47.759754Z",
     "start_time": "2024-04-09T06:18:47.732566Z"
    }
   },
   "outputs": [
    {
     "name": "stdout",
     "output_type": "stream",
     "text": [
      "tensor(-2.)\n"
     ]
    },
    {
     "data": {
      "text/plain": [
       "tensor(0.)"
      ]
     },
     "execution_count": 17,
     "metadata": {},
     "output_type": "execute_result"
    }
   ],
   "source": [
    "# continue optimizing:\n",
    "# update weights, this operation should not be part of the computational graph\n",
    "with torch.no_grad():\n",
    "    print(w.grad)\n",
    "    w -= 0.01 * w.grad\n",
    "  \n",
    "# don't forget to zero the gradients\n",
    "w.grad.zero_()"
   ]
  },
  {
   "cell_type": "markdown",
   "id": "824df049",
   "metadata": {},
   "source": [
    "next forward and backward pass..."
   ]
  }
 ],
 "metadata": {
  "hide_input": false,
  "jupytext": {
   "cell_metadata_filter": "-all",
   "main_language": "python",
   "notebook_metadata_filter": "-all"
  },
  "kernelspec": {
   "display_name": "Python 3 (ipykernel)",
   "language": "python",
   "name": "python3"
  },
  "language_info": {
   "codemirror_mode": {
    "name": "ipython",
    "version": 3
   },
   "file_extension": ".py",
   "mimetype": "text/x-python",
   "name": "python",
   "nbconvert_exporter": "python",
   "pygments_lexer": "ipython3",
   "version": "3.8.19"
  },
  "toc": {
   "base_numbering": 1,
   "nav_menu": {},
   "number_sections": true,
   "sideBar": true,
   "skip_h1_title": false,
   "title_cell": "Table of Contents",
   "title_sidebar": "Contents",
   "toc_cell": false,
   "toc_position": {},
   "toc_section_display": true,
   "toc_window_display": false
  },
  "varInspector": {
   "cols": {
    "lenName": 16,
    "lenType": 16,
    "lenVar": 40
   },
   "kernels_config": {
    "python": {
     "delete_cmd_postfix": "",
     "delete_cmd_prefix": "del ",
     "library": "var_list.py",
     "varRefreshCmd": "print(var_dic_list())"
    },
    "r": {
     "delete_cmd_postfix": ") ",
     "delete_cmd_prefix": "rm(",
     "library": "var_list.r",
     "varRefreshCmd": "cat(var_dic_list()) "
    }
   },
   "types_to_exclude": [
    "module",
    "function",
    "builtin_function_or_method",
    "instance",
    "_Feature"
   ],
   "window_display": false
  }
 },
 "nbformat": 4,
 "nbformat_minor": 5
}
