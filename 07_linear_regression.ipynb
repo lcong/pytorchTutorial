{
 "cells": [
  {
   "cell_type": "code",
   "execution_count": 1,
   "id": "190aeb5e",
   "metadata": {
    "ExecuteTime": {
     "end_time": "2024-04-09T08:35:51.433630Z",
     "start_time": "2024-04-09T08:35:43.515149Z"
    }
   },
   "outputs": [],
   "source": [
    "import torch\n",
    "import torch.nn as nn\n",
    "import numpy as np\n",
    "from sklearn import datasets\n",
    "import matplotlib.pyplot as plt\n",
    "from icecream import ic"
   ]
  },
  {
   "cell_type": "code",
   "execution_count": 2,
   "id": "250867d8",
   "metadata": {
    "ExecuteTime": {
     "end_time": "2024-04-09T08:35:51.478703Z",
     "start_time": "2024-04-09T08:35:51.450593Z"
    }
   },
   "outputs": [],
   "source": [
    "# 0) Prepare data\n",
    "X_numpy, y_numpy = datasets.make_regression(n_samples=100, n_features=1, noise=20, random_state=4)"
   ]
  },
  {
   "cell_type": "code",
   "execution_count": 11,
   "id": "e0cb2ceb",
   "metadata": {
    "ExecuteTime": {
     "end_time": "2024-04-09T08:38:28.850784Z",
     "start_time": "2024-04-09T08:38:27.919607Z"
    }
   },
   "outputs": [
    {
     "name": "stderr",
     "output_type": "stream",
     "text": [
      "ic| X: tensor([[-1.3475],\n",
      "               [ 0.3523],\n",
      "               [ 0.9547],\n",
      "               [ 0.0359],\n",
      "               [ 0.0480],\n",
      "               [ 0.0486],\n",
      "               [ 0.7233],\n",
      "               [ 0.8021],\n",
      "               [-1.1438],\n",
      "               [ 0.1794],\n",
      "               [-0.6477],\n",
      "               [-1.1128],\n",
      "               [-1.5846],\n",
      "               [-0.0880],\n",
      "               [ 2.4766],\n",
      "               [-0.7323],\n",
      "               [ 1.5470],\n",
      "               [-0.1307],\n",
      "               [ 0.3004],\n",
      "               [-0.9444],\n",
      "               [-0.3030],\n",
      "               [-0.3744],\n",
      "               [-1.1568],\n",
      "               [ 0.5986],\n",
      "               [-2.3798],\n",
      "               [-0.6077],\n",
      "               [ 0.5425],\n",
      "               [ 2.0224],\n",
      "               [ 0.0461],\n",
      "               [ 0.5232],\n",
      "               [ 0.2971],\n",
      "               [-1.5429],\n",
      "               [ 1.6924],\n",
      "               [ 0.2093],\n",
      "               [-0.4183],\n",
      "               [ 0.8708],\n",
      "               [-1.1475],\n",
      "               [-0.1752],\n",
      "               [-0.9618],\n",
      "               [ 0.1886],\n",
      "               [ 1.2020],\n",
      "               [ 1.9901],\n",
      "               [-1.3610],\n",
      "               [-0.0546],\n",
      "               [ 1.1642],\n",
      "               [-1.4555],\n",
      "               [ 0.0191],\n",
      "               [-0.7787],\n",
      "               [ 0.0375],\n",
      "               [-0.3461],\n",
      "               [-0.6512],\n",
      "               [ 0.1585],\n",
      "               [-1.2089],\n",
      "               [-0.6476],\n",
      "               [ 0.9148],\n",
      "               [-1.8409],\n",
      "               [ 0.5000],\n",
      "               [ 1.2718],\n",
      "               [ 0.6936],\n",
      "               [ 0.5562],\n",
      "               [ 0.4251],\n",
      "               [-1.0971],\n",
      "               [-0.5649],\n",
      "               [ 0.3510],\n",
      "               [ 0.8378],\n",
      "               [ 0.0544],\n",
      "               [-0.0094],\n",
      "               [-2.3581],\n",
      "               [-0.9830],\n",
      "               [ 0.9347],\n",
      "               [ 0.7952],\n",
      "               [ 0.5099],\n",
      "               [-0.1715],\n",
      "               [ 0.1599],\n",
      "               [ 2.2234],\n",
      "               [ 0.3323],\n",
      "               [ 0.0506],\n",
      "               [-0.5282],\n",
      "               [ 0.4303],\n",
      "               [ 1.6357],\n",
      "               [ 0.7866],\n",
      "               [-0.6069],\n",
      "               [ 0.3943],\n",
      "               [ 0.7965],\n",
      "               [-1.0753],\n",
      "               [-0.1967],\n",
      "               [ 0.8365],\n",
      "               [-0.4958],\n",
      "               [ 1.3799],\n",
      "               [ 0.0675],\n",
      "               [-0.9959],\n",
      "               [-0.9054],\n",
      "               [-0.2762],\n",
      "               [ 0.2427],\n",
      "               [ 0.5098],\n",
      "               [ 0.3323],\n",
      "               [-1.1056],\n",
      "               [ 2.0879],\n",
      "               [ 0.2809],\n",
      "               [ 0.6187]])\n",
      "ic| X.shape: torch.Size([100, 1])\n",
      "ic| y: tensor([-126.2492,   50.9288,   63.1546,    6.0547,   -5.7295,   -2.7519,\n",
      "                 58.7036,   53.8136,  -95.3411,   24.6481,  -59.4170,  -73.4235,\n",
      "               -104.1627,   31.8077,  171.1535,  -67.7520,  141.4677,  -24.3676,\n",
      "                 -2.1124,  -32.5958,  -29.4151,  -37.8715, -101.8983,   46.4129,\n",
      "               -181.3484,  -31.7740,   24.1315,  163.9438,   10.7737,   37.3589,\n",
      "                  0.9804, -120.8857,  138.1994,    9.2027,  -16.2069,   33.2171,\n",
      "                -45.6170,   -1.7776, -105.5628,    5.2639,   89.5979,  146.1030,\n",
      "                -77.7870,   -3.8089,   60.8120,  -97.2027,   -1.1599,  -43.8825,\n",
      "                 15.7428,  -24.2745,  -90.6015,  -19.0731, -101.7900,  -56.5514,\n",
      "                 52.1697, -158.2847,   64.5397,   84.5210,   66.4343,   36.8660,\n",
      "                 37.4378,  -82.9171,  -21.4183,   -5.5435,   59.8845,    8.3785,\n",
      "                -17.1763, -160.5090, -100.7372,   80.3034,   69.6496,   28.1444,\n",
      "                  9.7630,   41.1250,  176.9283,    9.5598,   -4.4046,  -24.0359,\n",
      "                 19.1701,  102.4833,  101.5209,  -58.5132,   17.6877,   63.0537,\n",
      "               -102.3673,   -1.6586,   64.6626,  -44.1299,  117.9966,   -4.6317,\n",
      "                -76.7146,  -67.2816,  -12.4644,   24.2973,   31.4312,   34.4411,\n",
      "                -74.7682,  160.9960,   40.6977,   33.4340])\n",
      "ic| y.shape: torch.Size([100])\n",
      "ic| y: tensor([[-126.2492],\n",
      "               [  50.9288],\n",
      "               [  63.1546],\n",
      "               [   6.0547],\n",
      "               [  -5.7295],\n",
      "               [  -2.7519],\n",
      "               [  58.7036],\n",
      "               [  53.8136],\n",
      "               [ -95.3411],\n",
      "               [  24.6481],\n",
      "               [ -59.4170],\n",
      "               [ -73.4235],\n",
      "               [-104.1627],\n",
      "               [  31.8077],\n",
      "               [ 171.1535],\n",
      "               [ -67.7520],\n",
      "               [ 141.4677],\n",
      "               [ -24.3676],\n",
      "               [  -2.1124],\n",
      "               [ -32.5958],\n",
      "               [ -29.4151],\n",
      "               [ -37.8715],\n",
      "               [-101.8983],\n",
      "               [  46.4129],\n",
      "               [-181.3484],\n",
      "               [ -31.7740],\n",
      "               [  24.1315],\n",
      "               [ 163.9438],\n",
      "               [  10.7737],\n",
      "               [  37.3589],\n",
      "               [   0.9804],\n",
      "               [-120.8857],\n",
      "               [ 138.1994],\n",
      "               [   9.2027],\n",
      "               [ -16.2069],\n",
      "               [  33.2171],\n",
      "               [ -45.6170],\n",
      "               [  -1.7776],\n",
      "               [-105.5628],\n",
      "               [   5.2639],\n",
      "               [  89.5979],\n",
      "               [ 146.1030],\n",
      "               [ -77.7870],\n",
      "               [  -3.8089],\n",
      "               [  60.8120],\n",
      "               [ -97.2027],\n",
      "               [  -1.1599],\n",
      "               [ -43.8825],\n",
      "               [  15.7428],\n",
      "               [ -24.2745],\n",
      "               [ -90.6015],\n",
      "               [ -19.0731],\n",
      "               [-101.7900],\n",
      "               [ -56.5514],\n",
      "               [  52.1697],\n",
      "               [-158.2847],\n",
      "               [  64.5397],\n",
      "               [  84.5210],\n",
      "               [  66.4343],\n",
      "               [  36.8660],\n",
      "               [  37.4378],\n",
      "               [ -82.9171],\n",
      "               [ -21.4183],\n",
      "               [  -5.5435],\n",
      "               [  59.8845],\n",
      "               [   8.3785],\n",
      "               [ -17.1763],\n",
      "               [-160.5090],\n",
      "               [-100.7372],\n",
      "               [  80.3034],\n",
      "               [  69.6496],\n",
      "               [  28.1444],\n",
      "               [   9.7630],\n",
      "               [  41.1250],\n",
      "               [ 176.9283],\n",
      "               [   9.5598],\n",
      "               [  -4.4046],\n",
      "               [ -24.0359],\n",
      "               [  19.1701],\n",
      "               [ 102.4833],\n",
      "               [ 101.5209],\n",
      "               [ -58.5132],\n",
      "               [  17.6877],\n",
      "               [  63.0537],\n",
      "               [-102.3673],\n",
      "               [  -1.6586],\n",
      "               [  64.6626],\n",
      "               [ -44.1299],\n",
      "               [ 117.9966],\n",
      "               [  -4.6317],\n",
      "               [ -76.7146],\n",
      "               [ -67.2816],\n",
      "               [ -12.4644],\n",
      "               [  24.2973],\n",
      "               [  31.4312],\n",
      "               [  34.4411],\n",
      "               [ -74.7682],\n",
      "               [ 160.9960],\n",
      "               [  40.6977],\n",
      "               [  33.4340]])\n",
      "ic| y.shape: torch.Size([100, 1])\n"
     ]
    },
    {
     "data": {
      "text/plain": [
       "torch.Size([100, 1])"
      ]
     },
     "execution_count": 11,
     "metadata": {},
     "output_type": "execute_result"
    }
   ],
   "source": [
    "# cast to float Tensor\n",
    "X = torch.from_numpy(X_numpy.astype(np.float32))\n",
    "ic(X)\n",
    "ic(X.shape)\n",
    "y = torch.from_numpy(y_numpy.astype(np.float32))\n",
    "ic(y)\n",
    "ic(y.shape)\n",
    "y = y.view(y.shape[0], 1)\n",
    "ic(y)\n",
    "ic(y.shape)"
   ]
  },
  {
   "cell_type": "code",
   "execution_count": 6,
   "id": "67c23a46",
   "metadata": {
    "ExecuteTime": {
     "end_time": "2024-04-09T08:36:48.788677Z",
     "start_time": "2024-04-09T08:36:48.743524Z"
    }
   },
   "outputs": [
    {
     "name": "stderr",
     "output_type": "stream",
     "text": [
      "ic| n_samples: 100\n",
      "ic| n_features: 1\n"
     ]
    },
    {
     "data": {
      "text/plain": [
       "1"
      ]
     },
     "execution_count": 6,
     "metadata": {},
     "output_type": "execute_result"
    }
   ],
   "source": [
    "n_samples, n_features = X.shape\n",
    "ic(n_samples)\n",
    "ic(n_features)"
   ]
  },
  {
   "cell_type": "code",
   "execution_count": 7,
   "id": "f6d7e7e9",
   "metadata": {
    "ExecuteTime": {
     "end_time": "2024-04-09T08:37:17.869483Z",
     "start_time": "2024-04-09T08:37:17.855489Z"
    }
   },
   "outputs": [],
   "source": [
    "# 1) Model\n",
    "# Linear model f = wx + b\n",
    "input_size = n_features\n",
    "output_size = 1\n",
    "model = nn.Linear(input_size, output_size)"
   ]
  },
  {
   "cell_type": "code",
   "execution_count": 8,
   "id": "e17a4396",
   "metadata": {
    "ExecuteTime": {
     "end_time": "2024-04-09T08:37:19.455647Z",
     "start_time": "2024-04-09T08:37:19.448672Z"
    }
   },
   "outputs": [],
   "source": [
    "# 2) Loss and optimizer\n",
    "learning_rate = 0.01"
   ]
  },
  {
   "cell_type": "code",
   "execution_count": 9,
   "id": "77c9e54b",
   "metadata": {
    "ExecuteTime": {
     "end_time": "2024-04-09T08:37:21.434075Z",
     "start_time": "2024-04-09T08:37:20.819010Z"
    }
   },
   "outputs": [],
   "source": [
    "criterion = nn.MSELoss()\n",
    "optimizer = torch.optim.SGD(model.parameters(), lr=learning_rate)  "
   ]
  },
  {
   "cell_type": "code",
   "execution_count": 10,
   "id": "22fc204f",
   "metadata": {
    "ExecuteTime": {
     "end_time": "2024-04-09T08:37:35.893223Z",
     "start_time": "2024-04-09T08:37:35.779986Z"
    }
   },
   "outputs": [
    {
     "name": "stdout",
     "output_type": "stream",
     "text": [
      "epoch: 10, loss = 3971.8240\n",
      "epoch: 20, loss = 2800.9084\n",
      "epoch: 30, loss = 2002.7422\n",
      "epoch: 40, loss = 1458.5472\n",
      "epoch: 50, loss = 1087.4337\n",
      "epoch: 60, loss = 834.3011\n",
      "epoch: 70, loss = 661.6071\n",
      "epoch: 80, loss = 543.7674\n",
      "epoch: 90, loss = 463.3428\n",
      "epoch: 100, loss = 408.4433\n"
     ]
    }
   ],
   "source": [
    "# 3) Training loop\n",
    "num_epochs = 100\n",
    "for epoch in range(num_epochs):\n",
    "    # Forward pass and loss\n",
    "    y_predicted = model(X)\n",
    "    loss = criterion(y_predicted, y)\n",
    "    \n",
    "    # Backward pass and update\n",
    "    loss.backward()\n",
    "    optimizer.step()\n",
    "\n",
    "    # zero grad before new step\n",
    "    optimizer.zero_grad()\n",
    "\n",
    "    if (epoch+1) % 10 == 0:\n",
    "        print(f'epoch: {epoch+1}, loss = {loss.item():.4f}')"
   ]
  },
  {
   "cell_type": "code",
   "execution_count": null,
   "id": "e30db27f",
   "metadata": {
    "ExecuteTime": {
     "end_time": "2024-04-08T13:14:57.089340Z",
     "start_time": "2024-04-08T13:14:57.082347Z"
    }
   },
   "outputs": [],
   "source": [
    "# Plot\n",
    "predicted = model(X).detach().numpy()"
   ]
  },
  {
   "cell_type": "code",
   "execution_count": null,
   "id": "30873c38",
   "metadata": {
    "ExecuteTime": {
     "end_time": "2024-04-08T13:14:58.028256Z",
     "start_time": "2024-04-08T13:14:57.889062Z"
    }
   },
   "outputs": [],
   "source": [
    "plt.plot(X_numpy, y_numpy, 'ro')\n",
    "plt.plot(X_numpy, predicted, 'b')\n",
    "plt.show()"
   ]
  },
  {
   "cell_type": "code",
   "execution_count": null,
   "id": "49680fc1",
   "metadata": {},
   "outputs": [],
   "source": []
  },
  {
   "cell_type": "code",
   "execution_count": null,
   "id": "78ae9aa7",
   "metadata": {},
   "outputs": [],
   "source": []
  },
  {
   "cell_type": "code",
   "execution_count": null,
   "id": "64896a6f",
   "metadata": {},
   "outputs": [],
   "source": []
  },
  {
   "cell_type": "code",
   "execution_count": null,
   "id": "5887f4ce",
   "metadata": {},
   "outputs": [],
   "source": []
  }
 ],
 "metadata": {
  "hide_input": false,
  "jupytext": {
   "cell_metadata_filter": "-all",
   "main_language": "python",
   "notebook_metadata_filter": "-all"
  },
  "kernelspec": {
   "display_name": "Python 3 (ipykernel)",
   "language": "python",
   "name": "python3"
  },
  "language_info": {
   "codemirror_mode": {
    "name": "ipython",
    "version": 3
   },
   "file_extension": ".py",
   "mimetype": "text/x-python",
   "name": "python",
   "nbconvert_exporter": "python",
   "pygments_lexer": "ipython3",
   "version": "3.8.18"
  },
  "toc": {
   "base_numbering": 1,
   "nav_menu": {},
   "number_sections": true,
   "sideBar": true,
   "skip_h1_title": false,
   "title_cell": "Table of Contents",
   "title_sidebar": "Contents",
   "toc_cell": false,
   "toc_position": {},
   "toc_section_display": true,
   "toc_window_display": false
  },
  "varInspector": {
   "cols": {
    "lenName": 16,
    "lenType": 16,
    "lenVar": 40
   },
   "kernels_config": {
    "python": {
     "delete_cmd_postfix": "",
     "delete_cmd_prefix": "del ",
     "library": "var_list.py",
     "varRefreshCmd": "print(var_dic_list())"
    },
    "r": {
     "delete_cmd_postfix": ") ",
     "delete_cmd_prefix": "rm(",
     "library": "var_list.r",
     "varRefreshCmd": "cat(var_dic_list()) "
    }
   },
   "types_to_exclude": [
    "module",
    "function",
    "builtin_function_or_method",
    "instance",
    "_Feature"
   ],
   "window_display": false
  }
 },
 "nbformat": 4,
 "nbformat_minor": 5
}
