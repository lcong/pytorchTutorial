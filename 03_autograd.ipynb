{
 "cells": [
  {
   "cell_type": "code",
   "execution_count": 1,
   "id": "e0326dd2",
   "metadata": {
    "ExecuteTime": {
     "end_time": "2024-04-09T08:33:48.488212Z",
     "start_time": "2024-04-09T08:33:48.476225Z"
    }
   },
   "outputs": [],
   "source": [
    "import torch\n",
    "import icecream as ic"
   ]
  },
  {
   "cell_type": "markdown",
   "id": "413b8d2c",
   "metadata": {},
   "source": [
    "The autograd package provides automatic differentiation\n",
    "for all operations on Tensors"
   ]
  },
  {
   "cell_type": "code",
   "execution_count": 2,
   "id": "60cb7a20",
   "metadata": {
    "ExecuteTime": {
     "end_time": "2024-04-09T08:33:48.503317Z",
     "start_time": "2024-04-09T08:33:48.490204Z"
    }
   },
   "outputs": [],
   "source": [
    "# requires_grad = True -> tracks all operations on the tensor.\n",
    "x = torch.randn(3, requires_grad=True)\n",
    "y = x + 2"
   ]
  },
  {
   "cell_type": "code",
   "execution_count": 3,
   "id": "8298ac41",
   "metadata": {
    "ExecuteTime": {
     "end_time": "2024-04-09T08:33:48.518912Z",
     "start_time": "2024-04-09T08:33:48.505775Z"
    }
   },
   "outputs": [
    {
     "name": "stdout",
     "output_type": "stream",
     "text": [
      "tensor([-0.0557, -0.7402, -0.0682], requires_grad=True)\n",
      "tensor([1.9443, 1.2598, 1.9318], grad_fn=<AddBackward0>)\n",
      "<AddBackward0 object at 0x000001F1FCBE2760>\n"
     ]
    }
   ],
   "source": [
    "# y was created as a result of an operation, so it has a grad_fn attribute.\n",
    "# grad_fn: references a Function that has created the Tensor\n",
    "print(x)  # created by the user -> grad_fn is None\n",
    "print(y)\n",
    "print(y.grad_fn)"
   ]
  },
  {
   "cell_type": "code",
   "execution_count": 5,
   "id": "44f0d9ed",
   "metadata": {
    "ExecuteTime": {
     "end_time": "2024-04-09T08:33:48.534035Z",
     "start_time": "2024-04-09T08:33:48.520928Z"
    }
   },
   "outputs": [
    {
     "name": "stdout",
     "output_type": "stream",
     "text": [
      "tensor([11.3404,  4.7610, 11.1953], grad_fn=<MulBackward0>)\n",
      "tensor(9.0989, grad_fn=<MeanBackward0>)\n"
     ]
    }
   ],
   "source": [
    "# Do more operations on y\n",
    "z = y * y * 3\n",
    "print(z)\n",
    "z = z.mean()\n",
    "print(z)"
   ]
  },
  {
   "cell_type": "markdown",
   "id": "74cdd88d",
   "metadata": {},
   "source": [
    "Let's compute the gradients with backpropagation\n",
    "When we finish our computation we can call .backward() and have all the gradients computed automatically.\n",
    "The gradient for this tensor will be accumulated into .grad attribute.\n",
    "It is the partial derivate of the function w.r.t. the tensor"
   ]
  },
  {
   "cell_type": "code",
   "execution_count": 6,
   "id": "2f42e176",
   "metadata": {
    "ExecuteTime": {
     "end_time": "2024-04-09T08:33:48.549747Z",
     "start_time": "2024-04-09T08:33:48.537564Z"
    }
   },
   "outputs": [
    {
     "name": "stdout",
     "output_type": "stream",
     "text": [
      "tensor([3.8885, 2.5195, 3.8636])\n"
     ]
    }
   ],
   "source": [
    "z.backward()\n",
    "print(x.grad)  # dz/dx"
   ]
  },
  {
   "cell_type": "markdown",
   "id": "ab489c8b",
   "metadata": {},
   "source": [
    "Generally speaking, torch.autograd is an engine for computing vector-Jacobian product\n",
    "It computes partial derivates while applying the chain rule"
   ]
  },
  {
   "cell_type": "markdown",
   "id": "573bb37d",
   "metadata": {},
   "source": [
    "-------------\n",
    "Model with non-scalar output:\n",
    "If a Tensor is non-scalar (more than 1 elements), we need to specify arguments for backward()\n",
    "specify a gradient argument that is a tensor of matching shape.\n",
    "needed for vector-Jacobian product"
   ]
  },
  {
   "cell_type": "code",
   "execution_count": 7,
   "id": "67e98b32",
   "metadata": {
    "ExecuteTime": {
     "end_time": "2024-04-09T08:33:48.565398Z",
     "start_time": "2024-04-09T08:33:48.553293Z"
    }
   },
   "outputs": [
    {
     "name": "stdout",
     "output_type": "stream",
     "text": [
      "tensor([1.2543, 0.3589, 1.9007], requires_grad=True)\n"
     ]
    }
   ],
   "source": [
    "x = torch.randn(3, requires_grad=True)\n",
    "print(x)"
   ]
  },
  {
   "cell_type": "code",
   "execution_count": 8,
   "id": "955c4971",
   "metadata": {
    "ExecuteTime": {
     "end_time": "2024-04-09T08:33:48.580974Z",
     "start_time": "2024-04-09T08:33:48.568974Z"
    }
   },
   "outputs": [],
   "source": [
    "y = x * 2\n",
    "for _ in range(10):\n",
    "    y = y * 2"
   ]
  },
  {
   "cell_type": "code",
   "execution_count": 9,
   "id": "f78ecd48",
   "metadata": {
    "ExecuteTime": {
     "end_time": "2024-04-09T08:33:48.595726Z",
     "start_time": "2024-04-09T08:33:48.585343Z"
    }
   },
   "outputs": [
    {
     "name": "stdout",
     "output_type": "stream",
     "text": [
      "tensor([2568.7620,  735.0761, 3892.5857], grad_fn=<MulBackward0>)\n",
      "torch.Size([3])\n"
     ]
    }
   ],
   "source": [
    "print(y)\n",
    "print(y.shape)"
   ]
  },
  {
   "cell_type": "code",
   "execution_count": 49,
   "id": "c7afa801",
   "metadata": {
    "ExecuteTime": {
     "end_time": "2024-04-09T08:33:48.611635Z",
     "start_time": "2024-04-09T08:33:48.597726Z"
    }
   },
   "outputs": [
    {
     "name": "stdout",
     "output_type": "stream",
     "text": [
      "tensor([2.0480e+02, 2.0480e+03, 2.0480e-01])\n"
     ]
    }
   ],
   "source": [
    "v = torch.tensor([0.1, 1.0, 0.0001], dtype=torch.float32)\n",
    "y.backward(v)\n",
    "print(x.grad)"
   ]
  },
  {
   "cell_type": "markdown",
   "id": "eedf7ee4",
   "metadata": {},
   "source": [
    "-------------\n",
    "Stop a tensor from tracking history:\n",
    "For example during our training loop when we want to update our weights\n",
    "then this update operation should not be part of the gradient computation\n",
    "- x.requires_grad_(False)\n",
    "- x.detach()\n",
    "- wrap in 'with torch.no_grad():'"
   ]
  },
  {
   "cell_type": "code",
   "execution_count": 10,
   "id": "6e9275ac",
   "metadata": {
    "ExecuteTime": {
     "end_time": "2024-04-09T08:33:48.626574Z",
     "start_time": "2024-04-09T08:33:48.613280Z"
    }
   },
   "outputs": [
    {
     "name": "stdout",
     "output_type": "stream",
     "text": [
      "False\n",
      "None\n",
      "True\n",
      "<SumBackward0 object at 0x000001F1FCBE2880>\n"
     ]
    }
   ],
   "source": [
    "# .requires_grad_(...) changes an existing flag in-place.\n",
    "a = torch.randn(2, 2)\n",
    "print(a.requires_grad)\n",
    "b = (a * 3) / (a - 1)\n",
    "print(b.grad_fn)\n",
    "a.requires_grad_(True)\n",
    "print(a.requires_grad)\n",
    "b = (a * a).sum()\n",
    "print(b.grad_fn)"
   ]
  },
  {
   "cell_type": "code",
   "execution_count": 11,
   "id": "2d92ad3d",
   "metadata": {
    "ExecuteTime": {
     "end_time": "2024-04-09T08:33:48.641551Z",
     "start_time": "2024-04-09T08:33:48.628633Z"
    }
   },
   "outputs": [
    {
     "name": "stdout",
     "output_type": "stream",
     "text": [
      "True\n",
      "False\n"
     ]
    }
   ],
   "source": [
    "# .detach(): get a new Tensor with the same content but no gradient computation:\n",
    "a = torch.randn(2, 2, requires_grad=True)\n",
    "print(a.requires_grad)\n",
    "b = a.detach()\n",
    "print(b.requires_grad)"
   ]
  },
  {
   "cell_type": "code",
   "execution_count": 52,
   "id": "546ef9c7",
   "metadata": {
    "ExecuteTime": {
     "end_time": "2024-04-09T08:33:48.656714Z",
     "start_time": "2024-04-09T08:33:48.643551Z"
    }
   },
   "outputs": [
    {
     "name": "stdout",
     "output_type": "stream",
     "text": [
      "True\n",
      "False\n"
     ]
    }
   ],
   "source": [
    "# wrap in 'with torch.no_grad():'\n",
    "a = torch.randn(2, 2, requires_grad=True)\n",
    "print(a.requires_grad)\n",
    "with torch.no_grad():\n",
    "    print((x**2).requires_grad)"
   ]
  },
  {
   "cell_type": "code",
   "execution_count": 12,
   "id": "ecd90f4b",
   "metadata": {
    "ExecuteTime": {
     "end_time": "2024-04-09T08:33:52.057056Z",
     "start_time": "2024-04-09T08:33:52.044057Z"
    }
   },
   "outputs": [],
   "source": [
    "# -------------\n",
    "# backward() accumulates the gradient for this tensor into .grad attribute.\n",
    "# !!! We need to be careful during optimization !!!\n",
    "# Use .zero_() to empty the gradients before a new optimization step!\n",
    "weights = torch.ones(4, requires_grad=True)"
   ]
  },
  {
   "cell_type": "code",
   "execution_count": 13,
   "id": "2ba8589b",
   "metadata": {
    "ExecuteTime": {
     "end_time": "2024-04-09T08:33:57.134436Z",
     "start_time": "2024-04-09T08:33:57.115220Z"
    }
   },
   "outputs": [
    {
     "name": "stdout",
     "output_type": "stream",
     "text": [
      "tensor([3., 3., 3., 3.])\n",
      "tensor([6., 6., 6., 6.])\n",
      "tensor([9., 9., 9., 9.])\n"
     ]
    }
   ],
   "source": [
    "for epoch in range(3):\n",
    "    # just a dummy example\n",
    "    model_output = (weights * 3).sum()\n",
    "    model_output.backward()\n",
    "\n",
    "    print(weights.grad)\n",
    "\n",
    "    # optimize model, i.e. adjust weights...\n",
    "    with torch.no_grad():\n",
    "        weights -= 0.1 * weights.grad\n",
    "\n",
    "    # this is important! It affects the final weights & output\n",
    "    weights.grad.zero_()"
   ]
  },
  {
   "cell_type": "code",
   "execution_count": 14,
   "id": "2f01c8ec",
   "metadata": {
    "ExecuteTime": {
     "end_time": "2024-04-09T08:34:06.211493Z",
     "start_time": "2024-04-09T08:34:06.194799Z"
    }
   },
   "outputs": [
    {
     "name": "stdout",
     "output_type": "stream",
     "text": [
      "tensor([-0.8000, -0.8000, -0.8000, -0.8000], requires_grad=True)\n",
      "tensor(1.2000, grad_fn=<SumBackward0>)\n"
     ]
    }
   ],
   "source": [
    "print(weights)\n",
    "print(model_output)"
   ]
  },
  {
   "cell_type": "markdown",
   "id": "cd57f19d",
   "metadata": {},
   "source": [
    "Optimizer has zero_grad() method\n",
    "optimizer = torch.optim.SGD([weights], lr=0.1)\n",
    "During training:\n",
    "optimizer.step()\n",
    "optimizer.zero_grad()"
   ]
  }
 ],
 "metadata": {
  "hide_input": false,
  "jupytext": {
   "cell_metadata_filter": "-all",
   "main_language": "python",
   "notebook_metadata_filter": "-all"
  },
  "kernelspec": {
   "display_name": "Python 3 (ipykernel)",
   "language": "python",
   "name": "python3"
  },
  "language_info": {
   "codemirror_mode": {
    "name": "ipython",
    "version": 3
   },
   "file_extension": ".py",
   "mimetype": "text/x-python",
   "name": "python",
   "nbconvert_exporter": "python",
   "pygments_lexer": "ipython3",
   "version": "3.8.19"
  },
  "toc": {
   "base_numbering": 1,
   "nav_menu": {},
   "number_sections": true,
   "sideBar": true,
   "skip_h1_title": false,
   "title_cell": "Table of Contents",
   "title_sidebar": "Contents",
   "toc_cell": false,
   "toc_position": {},
   "toc_section_display": true,
   "toc_window_display": false
  },
  "varInspector": {
   "cols": {
    "lenName": 16,
    "lenType": 16,
    "lenVar": 40
   },
   "kernels_config": {
    "python": {
     "delete_cmd_postfix": "",
     "delete_cmd_prefix": "del ",
     "library": "var_list.py",
     "varRefreshCmd": "print(var_dic_list())"
    },
    "r": {
     "delete_cmd_postfix": ") ",
     "delete_cmd_prefix": "rm(",
     "library": "var_list.r",
     "varRefreshCmd": "cat(var_dic_list()) "
    }
   },
   "types_to_exclude": [
    "module",
    "function",
    "builtin_function_or_method",
    "instance",
    "_Feature"
   ],
   "window_display": false
  }
 },
 "nbformat": 4,
 "nbformat_minor": 5
}
